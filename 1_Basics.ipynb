{
 "cells": [
  {
   "cell_type": "markdown",
   "metadata": {},
   "source": [
    "<a href=\"https://www.uniwa.gr/\"> <img src='https://www.uniwa.gr/wp-content/uploads/2020/02/Logo-for-use-in-white-background.png'/></a>\n",
    "___\n",
    "<center><em> Copyright by University Of West Attica</em></center>"
   ]
  },
  {
   "cell_type": "markdown",
   "metadata": {},
   "source": [
    "# Μάθημα 1ο \n",
    "\n",
    "Βασικές Μεταβλτητές της Python "
   ]
  },
  {
   "cell_type": "markdown",
   "metadata": {},
   "source": [
    "## Βασικοί Τύποι Τιμών!\n",
    "<table >\n",
    "<tr>\n",
    "    <th>Όνομα</th> \n",
    "    <th>Τύπος</th>\n",
    "    <th>Περιγραφή</th>\n",
    "</tr>\n",
    "\n",
    "<tr>\n",
    "    <td>Integers/Ακέραιοι</td>\n",
    "    <td>int</td>\n",
    "    <td>Ακέραιοι αριθμοί:    3     300     200\n",
    "</td> \n",
    "</tr>\n",
    "\n",
    "<tr>\n",
    "    <td>Floating point/Δεκαδικοί</td>\n",
    "    <td>float</td>\n",
    "    <td>Δεκαδικοί αριθμοί:    2.3     4.6    100.0</td>\n",
    "</tr>\n",
    "\n",
    "<tr>\n",
    "    <td>Strings/Χαρακτήρες</td>\n",
    "    <td>str</td>\n",
    "    <td>Συμβολοσειρές χαρακτήρων:   \"hello\"   'Molly'   \"2000\"  \"アレックス\"</td>\n",
    "</tr>\n",
    "\n",
    "<tr>\n",
    "    <td>Lists/Λίστες</td>\n",
    "    <td>list</td>\n",
    "    <td>Στοιχισμένα αντικείμενα σε σειρά :   [10,\"hello\",200.3]</td>\n",
    "</tr>\n",
    "\n",
    "<tr>\n",
    "    <td>Dictionaries/Λεξικά</td>\n",
    "    <td>dict</td>\n",
    "    <td>Κλειδιά με ξεχωριστές τιμές:  {\"mykey\" : \"value\" , \"name\" : \"Frankie\"}</td>\n",
    "</tr>\n",
    "\n",
    "<tr>\n",
    "    <td>Tuples</td>\n",
    "    <td>tup</td>\n",
    "    <td>Στοιχισμένα αντικείμενα σε αμετάβλητη σειρά : (10,\"hello\",200.3)</td>\n",
    "</tr>\n",
    "\n",
    "<tr>\n",
    "    <td>Sets</td>\n",
    "    <td>set</td>\n",
    "    <td>Μοναδικά αντικείμενα δίχως σειρά :  {\"a\",\"b\"}</td>\n",
    "</tr>\n",
    "\n",
    "<tr>\n",
    "    <td>Booleans/Λογικοί</td>\n",
    "    <td>bool</td>\n",
    "    <td>Λογικές τιμές είτε True είτε False</td>\n",
    "</tr>\n",
    "   \n",
    " </table>"
   ]
  },
  {
   "cell_type": "markdown",
   "metadata": {},
   "source": [
    "## Βασικές Πράξεις"
   ]
  },
  {
   "cell_type": "markdown",
   "metadata": {},
   "source": [
    "### Πρόσθεση\n",
    "\n",
    "Χρησιμοποιούμε τον ειδικό χαρακτήρα ( + )"
   ]
  },
  {
   "cell_type": "code",
   "execution_count": 1,
   "metadata": {},
   "outputs": [
    {
     "data": {
      "text/plain": [
       "4"
      ]
     },
     "execution_count": 1,
     "metadata": {},
     "output_type": "execute_result"
    }
   ],
   "source": [
    "2+2"
   ]
  },
  {
   "cell_type": "markdown",
   "metadata": {},
   "source": [
    "### Αφαίρεση\n",
    "Χρησιμοποιούμε τον ειδικό χαρακτήρα ( - )"
   ]
  },
  {
   "cell_type": "code",
   "execution_count": 2,
   "metadata": {},
   "outputs": [
    {
     "data": {
      "text/plain": [
       "3"
      ]
     },
     "execution_count": 2,
     "metadata": {},
     "output_type": "execute_result"
    }
   ],
   "source": [
    "4-1"
   ]
  },
  {
   "cell_type": "markdown",
   "metadata": {},
   "source": [
    "### Πολλαπλασιασμός \n",
    "Χρησιμοποιούμε τον ειδικό χαρακτήρα ( * )"
   ]
  },
  {
   "cell_type": "code",
   "execution_count": 3,
   "metadata": {},
   "outputs": [
    {
     "data": {
      "text/plain": [
       "6"
      ]
     },
     "execution_count": 3,
     "metadata": {},
     "output_type": "execute_result"
    }
   ],
   "source": [
    "2*3"
   ]
  },
  {
   "cell_type": "markdown",
   "metadata": {},
   "source": [
    "### Διαίρεση \n",
    "Χρησιμοποιούμε τον ειδικό χαρακτήρα ( / )"
   ]
  },
  {
   "cell_type": "code",
   "execution_count": 4,
   "metadata": {},
   "outputs": [
    {
     "data": {
      "text/plain": [
       "4.5"
      ]
     },
     "execution_count": 4,
     "metadata": {},
     "output_type": "execute_result"
    }
   ],
   "source": [
    "9/2"
   ]
  },
  {
   "cell_type": "markdown",
   "metadata": {},
   "source": [
    "Για την Ακέραια Διαίρεση χρησιμοποιούμε τον παραπάνω χαρακτήρα 2 φορές! Δηλαδή ( // )"
   ]
  },
  {
   "cell_type": "code",
   "execution_count": 5,
   "metadata": {},
   "outputs": [
    {
     "data": {
      "text/plain": [
       "4"
      ]
     },
     "execution_count": 5,
     "metadata": {},
     "output_type": "execute_result"
    }
   ],
   "source": [
    "9//2"
   ]
  },
  {
   "cell_type": "markdown",
   "metadata": {},
   "source": [
    "### Modulo \n",
    "Χρησιμοποιούμε τον ειδικό χαρακτήρα ( % )"
   ]
  },
  {
   "cell_type": "code",
   "execution_count": 6,
   "metadata": {},
   "outputs": [
    {
     "data": {
      "text/plain": [
       "1"
      ]
     },
     "execution_count": 6,
     "metadata": {},
     "output_type": "execute_result"
    }
   ],
   "source": [
    "9%4"
   ]
  },
  {
   "cell_type": "markdown",
   "metadata": {},
   "source": [
    "Το Modulo ή αλλίως mod επιστρέφει το υπόλοιπο της Ακέραιας Διαίρεσης"
   ]
  },
  {
   "cell_type": "markdown",
   "metadata": {},
   "source": [
    "### Δυνάμεις \n",
    "Χρησιμοποιούμε τον ειδικό χαρακτήρα ( ** )"
   ]
  },
  {
   "cell_type": "code",
   "execution_count": 8,
   "metadata": {},
   "outputs": [
    {
     "data": {
      "text/plain": [
       "16"
      ]
     },
     "execution_count": 8,
     "metadata": {},
     "output_type": "execute_result"
    }
   ],
   "source": [
    "4**2"
   ]
  },
  {
   "cell_type": "markdown",
   "metadata": {},
   "source": [
    "Μπορούμε με αυτόν τον τρόπο να βρούμε και ρίζες. \n",
    "<p> πχ τετραγωνική ρίζα είναι α^1/2, δηλαδή το αντίθετο του α^2 </p>"
   ]
  },
  {
   "cell_type": "code",
   "execution_count": 10,
   "metadata": {},
   "outputs": [
    {
     "data": {
      "text/plain": [
       "4.0"
      ]
     },
     "execution_count": 10,
     "metadata": {},
     "output_type": "execute_result"
    }
   ],
   "source": [
    "16**(1/2) # ή 16**0.5 \n",
    "# <- Με αυτό το σύμβολο αφήνουμε σχόλια στον κώδικα μας. "
   ]
  },
  {
   "cell_type": "markdown",
   "metadata": {},
   "source": [
    "Τα σχόλια στον κώδικα μας είναι πολύ σημαντικά, μιας και μας βοηθάνε στο να γνωρίζουμε καλύτερα και εμείς οι ίδιοι τι γίνεται στον κώδικα μας, όπως επίσης και τρίτοι που προσπαθούν να μας βοηθήσουν στην συγγραφή του κώδικα μας."
   ]
  },
  {
   "cell_type": "markdown",
   "metadata": {},
   "source": [
    "## Ονομασία Μεταβλητών"
   ]
  },
  {
   "cell_type": "markdown",
   "metadata": {},
   "source": [
    "<p>Αφού είδαμε πως μπορούμε να κάνουμε κάποιες πράξεις ήρθε η ώρα να δούμε πως αυτά τα αποτελέσματα θα τα αποθηκεύσουμε σε μία μεταβλητή, ώστε να μπορούμε να τις αξιοποιήσουμε μετέπειτα στον κώδικα μας.\n",
    " </p>\n",
    "     <p>Υπάρχουν όμως μερικές βασικοί κανόνες!</p>\n",
    "<li> Δεν μπορούμε να ξεκινάμε με αριθμούς (παράδειγμα: 1a)</li>\n",
    "<li> Δεν μπορούμε να προσθέσουμε κενά, αλλά μπορούμε αντί αυτών να βάλουμε _ (παράδειγμα όχι a 1 αλλά a_1 )</li>\n",
    "<li> Δεν μπορούμε να χρησιμοποιήσουμε τα παρακάτω σύμβολα:\n",
    "    <p> :'\",<>/?|\\()!@#$%^&*~-+ </p> </li>\n",
    " "
   ]
  },
  {
   "cell_type": "markdown",
   "metadata": {},
   "source": [
    "Τώρα που μπορούμε να εκχωρίσουμε τιμές σε μία μεταβλητή να κάνουμε πράξεις μεταξύ μεταβλητών!"
   ]
  },
  {
   "cell_type": "code",
   "execution_count": 16,
   "metadata": {},
   "outputs": [],
   "source": [
    "a= 2\n",
    "b= 3"
   ]
  },
  {
   "cell_type": "code",
   "execution_count": 17,
   "metadata": {},
   "outputs": [
    {
     "data": {
      "text/plain": [
       "5"
      ]
     },
     "execution_count": 17,
     "metadata": {},
     "output_type": "execute_result"
    }
   ],
   "source": [
    "a +b "
   ]
  },
  {
   "cell_type": "markdown",
   "metadata": {},
   "source": [
    "## Δυναμική Γλώσσα "
   ]
  },
  {
   "cell_type": "markdown",
   "metadata": {},
   "source": [
    "<p>οι python σε αντίθεση με άλλες γλώσσες προγραμματισμού δεν προαπαιτεί ανάθεση τύπου μεταβλητής πριν γίνει η πρώτη δήλωση μεταβλητής.\n",
    " </p>\n",
    " <p>Η ευελιξία που προσφέρει μπορεί πολλές φορές να είναι χρήσιμη, όμως μπορεί με λίγη απροσεξία να μας δημιουργήσει μερικά προβλήματα στον κώδικα μας </p>\n",
    "<p> Για παράδειγμα αν αλλάξουμε καταλάθος ή όχι τον τύπο μιας μεταβλητής και πιο κάτω στον κώδικα κάνουμε πράξεις σύμφωνα με τον προηγούμενο τύπο μεταβλητής μπορεί να υπάρχουν σφάλματα στον κωδικά μας! </p>\n",
    "<p> Για αυτό τον λόγο αποφέυγουμε να έχουμε μεταβλητές διαφορετικού τύπου με ίδιο όνομα!</p>"
   ]
  },
  {
   "cell_type": "code",
   "execution_count": 12,
   "metadata": {},
   "outputs": [
    {
     "data": {
      "text/plain": [
       "int"
      ]
     },
     "execution_count": 12,
     "metadata": {},
     "output_type": "execute_result"
    }
   ],
   "source": [
    "my_cats = 3 \n",
    "type(my_cats)"
   ]
  },
  {
   "cell_type": "code",
   "execution_count": 14,
   "metadata": {},
   "outputs": [
    {
     "data": {
      "text/plain": [
       "list"
      ]
     },
     "execution_count": 14,
     "metadata": {},
     "output_type": "execute_result"
    }
   ],
   "source": [
    "my_cats = [\"Jerry\",\"Tom\",\"Garfield\"]\n",
    "type(my_cats)"
   ]
  },
  {
   "cell_type": "markdown",
   "metadata": {},
   "source": [
    "## Χαρακτήρες"
   ]
  },
  {
   "cell_type": "markdown",
   "metadata": {},
   "source": [
    "Για να δημιουργήσουμε χαρακτήρες είτε χρησιμοποιούμε “ “ είτε ‘ ‘.\n",
    "Αυτό γίνεται για διευκόλυνση στον εισαγωγή της κατάλληλης συμβολοσειράς που επιθυμούμε.\n"
   ]
  },
  {
   "cell_type": "code",
   "execution_count": 1,
   "metadata": {},
   "outputs": [
    {
     "data": {
      "text/plain": [
       "'hello'"
      ]
     },
     "execution_count": 1,
     "metadata": {},
     "output_type": "execute_result"
    }
   ],
   "source": [
    "'hello'"
   ]
  },
  {
   "cell_type": "code",
   "execution_count": 2,
   "metadata": {},
   "outputs": [
    {
     "data": {
      "text/plain": [
       "\"I don't know\""
      ]
     },
     "execution_count": 2,
     "metadata": {},
     "output_type": "execute_result"
    }
   ],
   "source": [
    "\"I don't know\""
   ]
  },
  {
   "cell_type": "markdown",
   "metadata": {},
   "source": [
    "### Indexing\n",
    "Επειδή η χαρακτήρες όπως είπαμε είναι συμβολοσειρές, σημαίνει ότι υπάρχει μία σειρά κάθε χαρακτήρα, όπου ο καθένας έχει την δική του θέση. \n"
   ]
  },
  {
   "cell_type": "code",
   "execution_count": 7,
   "metadata": {},
   "outputs": [],
   "source": [
    "a = \"Hello\""
   ]
  },
  {
   "cell_type": "code",
   "execution_count": 19,
   "metadata": {},
   "outputs": [
    {
     "data": {
      "text/plain": [
       "'e'"
      ]
     },
     "execution_count": 19,
     "metadata": {},
     "output_type": "execute_result"
    }
   ],
   "source": [
    "a[1]"
   ]
  },
  {
   "cell_type": "code",
   "execution_count": 21,
   "metadata": {},
   "outputs": [
    {
     "data": {
      "text/plain": [
       "'e'"
      ]
     },
     "execution_count": 21,
     "metadata": {},
     "output_type": "execute_result"
    }
   ],
   "source": [
    "a[-4]"
   ]
  },
  {
   "cell_type": "markdown",
   "metadata": {},
   "source": [
    "### Slicing\n",
    "Σε περίπτωση που θέλουμε να πάρουμε παραπάνω από 1 χαρακτήρα χρησιμοποιούμε το slicing\n",
    "<p>[start:stop:step] </p>\n",
    "<br> </br>\n",
    "<li>start: Η θέση του χαρακτήρα που ξεκινάμε </li>\n",
    "<li>stop: Η θέση του χαρακτήρα που θέλουμε να φτάσουμε </li>\n",
    "<li>step: Το βήμα που θέλουμε να χρησιμοποιήσουμε για να περνάμε θέσεις. (πχ. Με βήμα 2 από την θέση 1 πάμε στην θέση 3) </li>\n"
   ]
  },
  {
   "cell_type": "code",
   "execution_count": 22,
   "metadata": {},
   "outputs": [
    {
     "data": {
      "text/plain": [
       "'ello'"
      ]
     },
     "execution_count": 22,
     "metadata": {},
     "output_type": "execute_result"
    }
   ],
   "source": [
    "a[1:]"
   ]
  },
  {
   "cell_type": "code",
   "execution_count": 24,
   "metadata": {},
   "outputs": [
    {
     "data": {
      "text/plain": [
       "'He'"
      ]
     },
     "execution_count": 24,
     "metadata": {},
     "output_type": "execute_result"
    }
   ],
   "source": [
    "a[:-3]"
   ]
  },
  {
   "cell_type": "code",
   "execution_count": 26,
   "metadata": {},
   "outputs": [
    {
     "data": {
      "text/plain": [
       "'Hlo'"
      ]
     },
     "execution_count": 26,
     "metadata": {},
     "output_type": "execute_result"
    }
   ],
   "source": [
    "a[0:5:2]"
   ]
  },
  {
   "cell_type": "code",
   "execution_count": 8,
   "metadata": {},
   "outputs": [
    {
     "data": {
      "text/plain": [
       "'olleH'"
      ]
     },
     "execution_count": 8,
     "metadata": {},
     "output_type": "execute_result"
    }
   ],
   "source": [
    "a[::-1] # εκτυπώνει ανάποδα την μεταβλητή"
   ]
  },
  {
   "cell_type": "markdown",
   "metadata": {},
   "source": [
    "Μέχρι τώρα απλά γράφουμε Συμβολοσειρές, επειδή το περιβάλλον Jupyter είναι πολύ διαδραστικό παράλληλα εκτυπώνει το αποτέλεσμα. \n",
    "<p>Αν θέλουμε να εκτυπώσουμε μία μεταβλητή ή μία συμβολοσειρά χρησιμοποιούμε την συνάρτηση print( ) </p>"
   ]
  },
  {
   "cell_type": "code",
   "execution_count": 6,
   "metadata": {},
   "outputs": [
    {
     "name": "stdout",
     "output_type": "stream",
     "text": [
      "hello\n"
     ]
    }
   ],
   "source": [
    "print('hello')"
   ]
  },
  {
   "cell_type": "markdown",
   "metadata": {},
   "source": [
    "Καταλαβαίνουμε την διαφορά, αφού τα ' ' απουσιάζουν από την εκτύπωση της μεταβλητής"
   ]
  },
  {
   "cell_type": "markdown",
   "metadata": {},
   "source": [
    "### String Formatting\n",
    "Το String Formatting μας δίνει την δυνατότητα να συνδυάσουμε χαρακτήρες με μία άλλη μεταβλητή. "
   ]
  },
  {
   "cell_type": "code",
   "execution_count": 5,
   "metadata": {},
   "outputs": [
    {
     "name": "stdout",
     "output_type": "stream",
     "text": [
      "Hello Alex\n"
     ]
    }
   ],
   "source": [
    "my_name = 'Alex'          # εδώ γίνεται η εκγχώρηση της μεταβλητής \n",
    "print('Hello ' + my_name) # εδώ χρησιμοποιούμε την τεχνική string interpolation "
   ]
  },
  {
   "cell_type": "markdown",
   "metadata": {},
   "source": [
    "Με το string interpolation απλά προσθέτουμε στο τέλος ενός string μία μεταβλητή"
   ]
  },
  {
   "cell_type": "markdown",
   "metadata": {},
   "source": [
    "#### .format()"
   ]
  },
  {
   "cell_type": "code",
   "execution_count": 10,
   "metadata": {},
   "outputs": [
    {
     "data": {
      "text/plain": [
       "'Μπορούμε να προσθέσουμε μία μεταβλητή στις παρενθέσιεις -> οι οποίες εξαφανίζονται!'"
      ]
     },
     "execution_count": 10,
     "metadata": {},
     "output_type": "execute_result"
    }
   ],
   "source": [
    "'Μπορούμε να προσθέσουμε μία μεταβλητή στις παρενθέσιεις -> {}'.format('οι οποίες εξαφανίζονται!')"
   ]
  },
  {
   "cell_type": "markdown",
   "metadata": {},
   "source": [
    "#### f-strings()"
   ]
  },
  {
   "cell_type": "code",
   "execution_count": 11,
   "metadata": {},
   "outputs": [
    {
     "name": "stdout",
     "output_type": "stream",
     "text": [
      "Hello, my name is Alex and I'm 21.\n"
     ]
    }
   ],
   "source": [
    "name = 'Alex'\n",
    "age = 21\n",
    "print(f\"Hello, my name is {name} and I'm {age}.\")"
   ]
  },
  {
   "cell_type": "markdown",
   "metadata": {},
   "source": [
    "## Λογικές Μεταβλητές"
   ]
  },
  {
   "cell_type": "markdown",
   "metadata": {},
   "source": [
    "<p>Η Python όπως όλες οι γλώσσες προγραμματισμούς έχει Λογικές Μεταβλητές, Booleans όπου έχουν προκαθορισμένες τιμές True ή False όπου ακολουθούν το Δυαδικό (Binary) σύστημα και έχουν τιμές 1 και 0 αντίστοιχα.</p>\n",
    "<p> Η Python επίσης προσφέρει την δυνατότητα για την υπάρξη της κενής τιμής None. </p> \n"
   ]
  },
  {
   "cell_type": "code",
   "execution_count": 6,
   "metadata": {},
   "outputs": [
    {
     "data": {
      "text/plain": [
       "True"
      ]
     },
     "execution_count": 6,
     "metadata": {},
     "output_type": "execute_result"
    }
   ],
   "source": [
    "a = True\n",
    "a"
   ]
  },
  {
   "cell_type": "code",
   "execution_count": 7,
   "metadata": {},
   "outputs": [
    {
     "data": {
      "text/plain": [
       "False"
      ]
     },
     "execution_count": 7,
     "metadata": {},
     "output_type": "execute_result"
    }
   ],
   "source": [
    "b = False\n",
    "b"
   ]
  },
  {
   "attachments": {},
   "cell_type": "markdown",
   "metadata": {},
   "source": [
    "#### None\n",
    "\n",
    "<p> Όπως αναφέρθηκε και παραπάνω η Python προσφέρει την δυνατότητα ύπαρξης κενής τιμής/μεταβλητής!<br>\n",
    "Η ύπαρξη αυτής της δυνατότητας δίνει μία επιπλέον δυναμικότητα στην Python, όπου η κύρια χρήση της είναι η αποτροπή σφάλματος του κώδικα.</p>\n",
    "<p> Για παράδειγμα ο χρήστης δώσει μία λανθασμένη τιμή, το πρόγραμμα αντί να τρέξει με λανθασμένη τιμή επιστρέφει μία None τιμή.</p>"
   ]
  },
  {
   "cell_type": "code",
   "execution_count": 13,
   "metadata": {},
   "outputs": [],
   "source": [
    " nothing = None"
   ]
  },
  {
   "cell_type": "code",
   "execution_count": 14,
   "metadata": {},
   "outputs": [
    {
     "data": {
      "text/plain": [
       "NoneType"
      ]
     },
     "execution_count": 14,
     "metadata": {},
     "output_type": "execute_result"
    }
   ],
   "source": [
    "type(nothing)"
   ]
  },
  {
   "cell_type": "markdown",
   "metadata": {},
   "source": [
    "### Πράξεις με boolean \n",
    "\n",
    "<p> Οι Boolean έχοντας το Δυαδικό σύστημα, μπορούμε να πραγματοποιήσουμε κάποιες πράξεις μαζί τους.  </p>"
   ]
  },
  {
   "cell_type": "code",
   "execution_count": 9,
   "metadata": {},
   "outputs": [
    {
     "data": {
      "text/plain": [
       "2"
      ]
     },
     "execution_count": 9,
     "metadata": {},
     "output_type": "execute_result"
    }
   ],
   "source": [
    "c = a+a # Ως True έχει την τιμή 1\n",
    "c"
   ]
  },
  {
   "cell_type": "code",
   "execution_count": 11,
   "metadata": {},
   "outputs": [
    {
     "data": {
      "text/plain": [
       "0"
      ]
     },
     "execution_count": 11,
     "metadata": {},
     "output_type": "execute_result"
    }
   ],
   "source": [
    "d = b+b # Ως False έχει την τιμή 0\n",
    "d"
   ]
  },
  {
   "cell_type": "markdown",
   "metadata": {},
   "source": [
    "## Operators\n",
    "\n",
    "<p> Με τους Operators μπορούμε να συγκρίνουμε μεταβλητές μεταξύ τους και να πάρουμε ένα Boolean αποτέλεσμα, δηλαδή True ή False </p>"
   ]
  },
  {
   "cell_type": "markdown",
   "metadata": {},
   "source": [
    "### Πίνακας Σύγκρισης Operators\n",
    "\n",
    "<p>  Στον παρακάτω πίνακα έχουμε το a=2 και b=0.</p>\n",
    "\n",
    "<table class=\"table table-bordered\">\n",
    "<tr>\n",
    "<th style=\"width:10%\">Operator</th><th style=\"width:45%\">Περιγραφή</th><th>Παράδειγμα</th>\n",
    "</tr>\n",
    "<tr>\n",
    "<td>==</td>\n",
    "<td> Ισότητα. Αν η τιμή των μεταβλητών είναι ίση, τότε επιστρέφει True.</td>\n",
    "<td> (a == b) True.</td>\n",
    "</tr>\n",
    "<tr>\n",
    "<td>!=</td>\n",
    "<td>Διαφορά. Το ανάποδο της ισότητας, δηλαδή αν οι τιμή των μεταβλητών είναι διαφορετική, τότε επιστρέφει True.</td>\n",
    "<td>(a != b)  False.</td>\n",
    "</tr>\n",
    "<tr>\n",
    "<td>&gt;</td>\n",
    "<td>Μεγαλύτερο. Αν η μεταβλητή που βρίσκεται στα αριστερά έχει μεγαλύτερη τιμή από την τιμή της μεταβλητής που βρίσκεται στα δεξία, τότε επιστρέφει True.</td>\n",
    "<td> (a &gt; b) True.</td>\n",
    "</tr>\n",
    "<tr>\n",
    "<td>&lt;</td>\n",
    "    <td>Μικρότερο. Αν η μεταβλητή που βρίσκεται στα αριστερά έχει μικρότερη τιμή από την τιμή της μεταβλητής που βρίσκεται στα δεξία, τότε επιστρέφει True.</td>\n",
    "<td> (a &lt; b) False.</td>\n",
    "</tr>\n",
    "<tr>\n",
    "<td>&gt;=</td>\n",
    "<td>Μεγαλύτερο ίσο. Αν η μεταβλητή που βρίσκεται στα αριστερά έχει μεγαλύτερη ή ίση τιμή από την τιμή της μεταβλητής που βρίσκεται στα δεξία, τότε επιστρέφει True.</td>\n",
    "<td> (a &gt;= b) True. </td>\n",
    "</tr>\n",
    "<tr>\n",
    "<td>&lt;=</td>\n",
    "<td>Μικρότερο ίσο. Αν η μεταβλητή που βρίσκεται στα αριστερά έχει μικρότερη ή ίση τιμή από την τιμή της μεταβλητής που βρίσκεται στα δεξία, τότε επιστρέφει True.</td>\n",
    "<td> (a &lt;= b) False. </td>\n",
    "</tr>\n",
    "</table>"
   ]
  },
  {
   "cell_type": "markdown",
   "metadata": {},
   "source": [
    "#### Iσότητα <code>==</code>"
   ]
  },
  {
   "cell_type": "markdown",
   "metadata": {},
   "source": [
    "Σημείωση η ισότητα <code>==</code> , που είναι ένας συηγκριτής, διαφέρει από την εκγχώρηση <code>=</code> , που είναι ανάθεση μεταβλητής."
   ]
  },
  {
   "cell_type": "code",
   "execution_count": 15,
   "metadata": {},
   "outputs": [
    {
     "data": {
      "text/plain": [
       "True"
      ]
     },
     "execution_count": 15,
     "metadata": {},
     "output_type": "execute_result"
    }
   ],
   "source": [
    "2 == 2"
   ]
  },
  {
   "cell_type": "code",
   "execution_count": 16,
   "metadata": {},
   "outputs": [
    {
     "data": {
      "text/plain": [
       "False"
      ]
     },
     "execution_count": 16,
     "metadata": {},
     "output_type": "execute_result"
    }
   ],
   "source": [
    "2 == 1"
   ]
  },
  {
   "cell_type": "markdown",
   "metadata": {},
   "source": [
    "#### Διαφορά <code>!=</code>"
   ]
  },
  {
   "cell_type": "code",
   "execution_count": 18,
   "metadata": {},
   "outputs": [
    {
     "data": {
      "text/plain": [
       "True"
      ]
     },
     "execution_count": 18,
     "metadata": {},
     "output_type": "execute_result"
    }
   ],
   "source": [
    "2 != 1"
   ]
  },
  {
   "cell_type": "code",
   "execution_count": 19,
   "metadata": {},
   "outputs": [
    {
     "data": {
      "text/plain": [
       "False"
      ]
     },
     "execution_count": 19,
     "metadata": {},
     "output_type": "execute_result"
    }
   ],
   "source": [
    "2 != 2"
   ]
  },
  {
   "cell_type": "markdown",
   "metadata": {},
   "source": [
    "####  Μεγταλύτερο <code>&gt;</code> και μεγαλύτερο ίσο <code>&gt;=</code>"
   ]
  },
  {
   "cell_type": "code",
   "execution_count": 22,
   "metadata": {},
   "outputs": [
    {
     "data": {
      "text/plain": [
       "True"
      ]
     },
     "execution_count": 22,
     "metadata": {},
     "output_type": "execute_result"
    }
   ],
   "source": [
    "2 > 1  # ιδιο αποτέλασμα με 2 >= 1"
   ]
  },
  {
   "cell_type": "code",
   "execution_count": 23,
   "metadata": {},
   "outputs": [
    {
     "data": {
      "text/plain": [
       "False"
      ]
     },
     "execution_count": 23,
     "metadata": {},
     "output_type": "execute_result"
    }
   ],
   "source": [
    "2 > 4  # ιδιο αποτέλασμα με 2 >= 4 "
   ]
  },
  {
   "cell_type": "code",
   "execution_count": 24,
   "metadata": {},
   "outputs": [
    {
     "data": {
      "text/plain": [
       "True"
      ]
     },
     "execution_count": 24,
     "metadata": {},
     "output_type": "execute_result"
    }
   ],
   "source": [
    "2 >= 2  # η διαφορά μεταξυ > και >="
   ]
  },
  {
   "cell_type": "markdown",
   "metadata": {},
   "source": [
    "####  Μικρότερο<code>&lt;</code> και μεγαλύτερο ίσο <code>&lt;=</code>"
   ]
  },
  {
   "cell_type": "code",
   "execution_count": 26,
   "metadata": {},
   "outputs": [
    {
     "data": {
      "text/plain": [
       "True"
      ]
     },
     "execution_count": 26,
     "metadata": {},
     "output_type": "execute_result"
    }
   ],
   "source": [
    "2 < 4  # ιδιο αποτέλασμα με 2 <= 4"
   ]
  },
  {
   "cell_type": "code",
   "execution_count": 27,
   "metadata": {},
   "outputs": [
    {
     "data": {
      "text/plain": [
       "False"
      ]
     },
     "execution_count": 27,
     "metadata": {},
     "output_type": "execute_result"
    }
   ],
   "source": [
    "2 < 1  # ιδιο αποτέλασμα με 2 <= 1 "
   ]
  },
  {
   "cell_type": "code",
   "execution_count": 28,
   "metadata": {},
   "outputs": [
    {
     "data": {
      "text/plain": [
       "True"
      ]
     },
     "execution_count": 28,
     "metadata": {},
     "output_type": "execute_result"
    }
   ],
   "source": [
    "2 <= 2  # η διαφορά μεταξυ < και <="
   ]
  },
  {
   "cell_type": "markdown",
   "metadata": {},
   "source": [
    "### Αλυσιδωτές Συγκρίσεις\n",
    "\n",
    "<p> Μπορούμε να πραγματοποιήσουμε πάνω από μία σύγκριση με την χρήση μίας \"αλυσίδας\". <br>\n",
    "   Πιο συγκεκριμένα με την χρήση των τελεστών and και or μπορούμε να πραγματοποιήσουμε σύνθετες αλυσιδώτές συγκρίσεις </p>"
   ]
  },
  {
   "cell_type": "markdown",
   "metadata": {},
   "source": [
    "<p>  Στον παρακάτω πίνακα έχουμε το Α=5,Β=6 και C=7.</p>\n",
    "\n",
    "<table class=\"table table-bordered\"\n",
    "<tr>\n",
    "<th style=\"width:10%\">Operator</th><th style=\"width:45%\">Περιγραφή</th><th>Παράδειγμα</th>\n",
    "</tr>\n",
    "<tr>\n",
    "<td>and</td>\n",
    "<td> ΚΑΙ. Με το και επιστρέφεται τιμή True μόνο και μόνο όταν και οι 2 τιμές είναι True.</td>\n",
    "<td> A!=B and B>C False.</td>\n",
    "</tr>\n",
    "<tr>\n",
    "<td>or</td>\n",
    "<td> Ή. Με το ή επιστρέφεται τιμή True όταν ισχύει μία από τις λογικές πράξεις.</td>\n",
    "<td>A!=B or B>C)  True.</td>\n",
    "</tr>\n",
    "</table>"
   ]
  },
  {
   "cell_type": "markdown",
   "metadata": {},
   "source": [
    "#### Απλή Αλυσίδα <code>and</code>"
   ]
  },
  {
   "cell_type": "code",
   "execution_count": 31,
   "metadata": {},
   "outputs": [
    {
     "data": {
      "text/plain": [
       "True"
      ]
     },
     "execution_count": 31,
     "metadata": {},
     "output_type": "execute_result"
    }
   ],
   "source": [
    "1 < 2 < 3 # Μόνο χρήση των τελεστών "
   ]
  },
  {
   "cell_type": "code",
   "execution_count": 32,
   "metadata": {},
   "outputs": [
    {
     "data": {
      "text/plain": [
       "True"
      ]
     },
     "execution_count": 32,
     "metadata": {},
     "output_type": "execute_result"
    }
   ],
   "source": [
    "1<2 and 2<3"
   ]
  },
  {
   "cell_type": "markdown",
   "metadata": {},
   "source": [
    "#### Απλή Αλυσίδα <code>or</code>"
   ]
  },
  {
   "cell_type": "code",
   "execution_count": 33,
   "metadata": {},
   "outputs": [
    {
     "data": {
      "text/plain": [
       "True"
      ]
     },
     "execution_count": 33,
     "metadata": {},
     "output_type": "execute_result"
    }
   ],
   "source": [
    "1==2 or 2<3"
   ]
  }
 ],
 "metadata": {
  "kernelspec": {
   "display_name": "Python 3",
   "language": "python",
   "name": "python3"
  },
  "language_info": {
   "codemirror_mode": {
    "name": "ipython",
    "version": 3
   },
   "file_extension": ".py",
   "mimetype": "text/x-python",
   "name": "python",
   "nbconvert_exporter": "python",
   "pygments_lexer": "ipython3",
   "version": "3.8.5"
  }
 },
 "nbformat": 4,
 "nbformat_minor": 4
}
