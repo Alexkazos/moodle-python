{
 "cells": [
  {
   "cell_type": "markdown",
   "metadata": {},
   "source": [
    "<a href=\"https://www.uniwa.gr/\"> <img src='https://www.uniwa.gr/wp-content/uploads/2020/02/Logo-for-use-in-white-background.png'/></a>\n",
    "___\n",
    "<center><em> Copyright by University Of West Attica</em></center>"
   ]
  },
  {
   "cell_type": "markdown",
   "metadata": {},
   "source": [
    "# If Statements"
   ]
  },
  {
   "cell_type": "markdown",
   "metadata": {},
   "source": [
    "<p> Συχνά θέλουμε να εκτελείται συγκεκριμένος κώδικας μόνο όταν πληρούται μια συγκεκριμένη συνθήκη...<br>\n",
    "Οι δηλώσεις <code>if</code> μας επιτρέπουν να πούμε στον υπολογιστή να εκτελεί εναλλακτικές ενέργειες με βάση ένα συγκεκριμένο σύνολο αποτελεσμάτων. <br>\n",
    "Με αυτή την τακτική μπορούμε να πραγματοποιήσουμε έλεγχο στην ροή του κώδικά μας!</p>\n",
    "<p> Για να πετύχουμε αυτή την τεχνική χρησιμοποιούμε τις παρακάτω εντολές: </p>\n",
    "<li>if, αρχικοποιεί την συνθήκη </li>\n",
    "<li>elif, προσθέτει μία επιπλέον συνθήκη στο if </li>\n",
    "<li>else, προσθέτει όλες τις υπόλοιπες εκδοχές </li>\n",
    "<p> <br> </p>\n",
    "\n",
    "<p>ΣΗΜΕΙΩΣΗ: Το if και else χρησιμοποιούνται μία φορά μία στην αρχή και μία στο τέλος αντίστοιχα, σε αντίθεση με το elif που χρησιμοποιείται όσες φορές θέλουμε,προσθέτοντας κάθε φορά 1 περιορισμό. </p>"
   ]
  },
  {
   "cell_type": "markdown",
   "metadata": {},
   "source": [
    "### Δομή του If\n",
    "\n",
    "    if some_condition:\n",
    "          #execute some code\n"
   ]
  },
  {
   "cell_type": "markdown",
   "metadata": {},
   "source": [
    "### Δομή του if/else \n",
    "\n",
    "    if some_condition:\n",
    "          #execute some code\n",
    "    else:                     \n",
    "        #do something else\n"
   ]
  },
  {
   "cell_type": "markdown",
   "metadata": {},
   "source": [
    "### Δομή του If/elif/else\n",
    "\n",
    "    if some_condition:\n",
    "          #execute some code\n",
    "    elif some_other_condition:\n",
    "          #do something different\n",
    "               .\n",
    "               .\n",
    "               .\n",
    "    else:                     \n",
    "        #do something else\n"
   ]
  },
  {
   "cell_type": "markdown",
   "metadata": {},
   "source": [
    "<p> και αυτή είναι η βασική ιδέα των δηλώσεων if, ας τα κατανοήσουμε μέσω μερικών παραδειγμάτων </p>"
   ]
  },
  {
   "cell_type": "markdown",
   "metadata": {},
   "source": [
    "#### Ένα απλό παράδειγμα if με μία συνθήκη True"
   ]
  },
  {
   "cell_type": "code",
   "execution_count": 3,
   "metadata": {},
   "outputs": [
    {
     "name": "stdout",
     "output_type": "stream",
     "text": [
      "It was true!\n"
     ]
    }
   ],
   "source": [
    "if True:\n",
    "    print('It was true!') #Αυτό το κομμάτι του κώδικα τρέχει μόνο αν η συνάρτηση είναι αληθής"
   ]
  },
  {
   "cell_type": "markdown",
   "metadata": {},
   "source": [
    "#### Ένα απλό παράδειγμα if/else με μία συνθήκη False"
   ]
  },
  {
   "cell_type": "code",
   "execution_count": 5,
   "metadata": {},
   "outputs": [
    {
     "name": "stdout",
     "output_type": "stream",
     "text": [
      "x was False\n"
     ]
    }
   ],
   "source": [
    "x = False\n",
    "\n",
    "if x:\n",
    "    print('x was True!') # Μόνο όταν το x = True\n",
    "else:\n",
    "    print('x was False') # Μόνο όταν το x = False"
   ]
  },
  {
   "cell_type": "markdown",
   "metadata": {},
   "source": [
    "#### Ένα πιο σύνθετο παράδειγμα if/elif/else με μία μεταβλητή"
   ]
  },
  {
   "cell_type": "code",
   "execution_count": 8,
   "metadata": {},
   "outputs": [
    {
     "name": "stdout",
     "output_type": "stream",
     "text": [
      "Welcome to Campus 2 of University Of West Attica!\n"
     ]
    }
   ],
   "source": [
    "loc = 'Campus 2'\n",
    "\n",
    "if loc == 'Campus 1': # Μόνο όταν το loc = Campus 1\n",
    "    print('Welcome to Campus 1 of University Of West Attica!')\n",
    "elif loc == 'Campus 2': # Μόνο όταν το loc = Campus 2 \n",
    "    print('Welcome to Campus 2 of University Of West Attica!')\n",
    "else:                   # Μόνο όταν το loc != Campus 1 και Campus 2\n",
    "    print(\"I'm lost!\")"
   ]
  },
  {
   "cell_type": "markdown",
   "metadata": {},
   "source": [
    "# Επαναλήψεις"
   ]
  },
  {
   "cell_type": "markdown",
   "metadata": {},
   "source": [
    "## For Loops\n",
    "\n",
    "<p> Πολλά αντικείμενα στην Python είναι \"iterable\", δηλαδή έχουν την ικανότητα της επανάληψης. <br> \n",
    "    Για παράδειγμα τα αντικείμενα σε μία λίστα ή οι χαρακτήρες μίας συμβολοσείρας! <br> \n",
    "    Μπορούμε να αξιοποιήσουμε αυτή την δυνατότητα με τους βρόχους <code>for</code> και <code>while </code> .</p>"
   ]
  },
  {
   "cell_type": "markdown",
   "metadata": {},
   "source": [
    "<p>Ένας βρόχος <code>for</code> λειτουργεί ως επαναλήπτης, δηλαδή περνά μέσα από στοιχεία που βρίσκονται σε μια ακολουθία ή οποιοδήποτε άλλο επαναλαμβανόμενο αντικείμενο. <br>\n",
    "Αντικείμενα για τα οποία μάθαμε και τα οποία μπορούμε να αξιοποιήσουμε περιλαμβάνουν: </p>\n",
    "<li>Strings,</li> \n",
    "<li>Lists,</li>\n",
    "<li>Tuples και,</li> \n",
    "<li>Dictionaries.</li>"
   ]
  },
  {
   "cell_type": "markdown",
   "metadata": {},
   "source": [
    "### Δομή του For loop\n",
    "\n",
    "\n",
    "    for item in object:\n",
    "        statements to do stuff"
   ]
  },
  {
   "cell_type": "markdown",
   "metadata": {},
   "source": [
    "<p> και αυτή είναι η βασική ιδέα των επαναλήψεων For, ας τα κατανοήσουμε μέσω μερικών παραδειγμάτων </p>"
   ]
  },
  {
   "cell_type": "markdown",
   "metadata": {},
   "source": [
    "#### Ας εξερευνήσουμε την δύναμη του for loop με την βοήθεια μίας λίστας"
   ]
  },
  {
   "cell_type": "code",
   "execution_count": 14,
   "metadata": {},
   "outputs": [],
   "source": [
    "list1 = [1,2,3,4,5,6,7,8,9,10]"
   ]
  },
  {
   "cell_type": "code",
   "execution_count": 21,
   "metadata": {},
   "outputs": [
    {
     "name": "stdout",
     "output_type": "stream",
     "text": [
      "1\n",
      "2\n",
      "3\n",
      "4\n",
      "5\n",
      "6\n",
      "7\n",
      "8\n",
      "9\n",
      "10\n"
     ]
    }
   ],
   "source": [
    "for i in list1:  # i = αριθμός στην λίστα\n",
    "    print(i)"
   ]
  },
  {
   "cell_type": "markdown",
   "metadata": {},
   "source": [
    "#### Τώρα εξερευνήσουμε την δύναμη του for loop με την βοήθεια ενός if statement"
   ]
  },
  {
   "cell_type": "code",
   "execution_count": 20,
   "metadata": {},
   "outputs": [
    {
     "name": "stdout",
     "output_type": "stream",
     "text": [
      "Odd number\n",
      "2\n",
      "Odd number\n",
      "4\n",
      "Odd number\n",
      "6\n",
      "Odd number\n",
      "8\n",
      "Odd number\n",
      "10\n"
     ]
    }
   ],
   "source": [
    "for number in list1:\n",
    "    if number % 2 == 0: # Αυτή η πράξη εμφανίζει μόνο τους ζυγούς αριθμούς\n",
    "        print(number)\n",
    "    else:            # Επομένως στο else θα είναι μόνο μονοί αριθμοί\n",
    "        print('Odd number')"
   ]
  },
  {
   "cell_type": "markdown",
   "metadata": {},
   "source": [
    "#### Τώρα εξερευνήσουμε την δύναμη του for loop με την βοήθεια μίας συμβολοσειράς"
   ]
  },
  {
   "cell_type": "code",
   "execution_count": 22,
   "metadata": {},
   "outputs": [
    {
     "name": "stdout",
     "output_type": "stream",
     "text": [
      "T\n",
      "h\n",
      "i\n",
      "s\n",
      " \n",
      "i\n",
      "s\n",
      " \n",
      "a\n",
      " \n",
      "s\n",
      "t\n",
      "r\n",
      "i\n",
      "n\n",
      "g\n",
      ".\n"
     ]
    }
   ],
   "source": [
    "for letter in 'This is a string.':\n",
    "    print(letter)"
   ]
  },
  {
   "cell_type": "markdown",
   "metadata": {},
   "source": [
    "#### Τώρα εξερευνήσουμε την δύναμη του for loop με την βοήθεια ενός tuple"
   ]
  },
  {
   "cell_type": "code",
   "execution_count": 23,
   "metadata": {},
   "outputs": [
    {
     "name": "stdout",
     "output_type": "stream",
     "text": [
      "1\n",
      "2\n",
      "3\n",
      "4\n",
      "5\n"
     ]
    }
   ],
   "source": [
    "tup = (1,2,3,4,5)\n",
    "\n",
    "for t in tup:\n",
    "    print(t)"
   ]
  },
  {
   "cell_type": "markdown",
   "metadata": {},
   "source": [
    "##### Μπορούμε επίσης να εμφωλεύσουμε ένα tuple σε μία λίστα και να αξιοποιήσουμε και με αυτό το τρόπο"
   ]
  },
  {
   "cell_type": "code",
   "execution_count": 24,
   "metadata": {},
   "outputs": [],
   "source": [
    "list2 = [(2,4),(6,8),(10,12)]"
   ]
  },
  {
   "cell_type": "code",
   "execution_count": 25,
   "metadata": {},
   "outputs": [
    {
     "name": "stdout",
     "output_type": "stream",
     "text": [
      "(2, 4)\n",
      "(6, 8)\n",
      "(10, 12)\n"
     ]
    }
   ],
   "source": [
    "for tup in list2:\n",
    "    print(tup)"
   ]
  },
  {
   "cell_type": "markdown",
   "metadata": {},
   "source": [
    "ή με την ιδιότητα tuple unpacking!"
   ]
  },
  {
   "cell_type": "code",
   "execution_count": 26,
   "metadata": {},
   "outputs": [
    {
     "name": "stdout",
     "output_type": "stream",
     "text": [
      "2\n",
      "6\n",
      "10\n"
     ]
    }
   ],
   "source": [
    "for (t1,t2) in list2:\n",
    "    print(t1)"
   ]
  },
  {
   "cell_type": "markdown",
   "metadata": {},
   "source": [
    "tuple unpacking είναι η ιδιότητα να παίρνουμε ξεχωριστά tuples μέσα από 1 άλλο αντικέιμενο, λίστες, λεξικά ή άλλα tuples "
   ]
  },
  {
   "cell_type": "markdown",
   "metadata": {},
   "source": [
    "#### Τέλος εξερευνήσουμε την δύναμη του for loop με την βοήθεια ενός Dictionary"
   ]
  },
  {
   "cell_type": "code",
   "execution_count": 28,
   "metadata": {},
   "outputs": [],
   "source": [
    "d = {'k1':1,'k2':2,'k3':3}"
   ]
  },
  {
   "cell_type": "code",
   "execution_count": 29,
   "metadata": {},
   "outputs": [
    {
     "name": "stdout",
     "output_type": "stream",
     "text": [
      "k1\n",
      "k2\n",
      "k3\n"
     ]
    }
   ],
   "source": [
    "for item in d:\n",
    "    print(item)"
   ]
  },
  {
   "cell_type": "markdown",
   "metadata": {},
   "source": [
    "με αυτό τον τρόπο παίρνουμε μόνο τα κλειδιά , αν θέλουμε μπορούμε να πάρουμε και τις τιμές τους με τον εξής τρόπο:"
   ]
  },
  {
   "cell_type": "code",
   "execution_count": 31,
   "metadata": {},
   "outputs": [
    {
     "name": "stdout",
     "output_type": "stream",
     "text": [
      "k1\n",
      "1\n",
      "k2\n",
      "2\n",
      "k3\n",
      "3\n"
     ]
    }
   ],
   "source": [
    "for k,v in d.items():\n",
    "    print(k)\n",
    "    print(v)"
   ]
  },
  {
   "cell_type": "markdown",
   "metadata": {},
   "source": [
    "## While Loops\n",
    "\n",
    "<p> Η εντολή <code>while</code> στην Python είναι ένας από τους πιο γενικούς τρόπους εκτέλεσης επανάληψης. <br> \n",
    "     Μια εντολή while θα εκτελεί επανειλημμένα μια μεμονωμένη πρόταση ή μια ομάδα εντολών, εφόσον η συνθήκη είναι αληθής - True. <br>\n",
    "    Αυτός είναι και ο λόγος που ονομάζεται 'βρόχος', είναι επειδή οι εντολές κώδικα επαναλαμβάνονται ξανά και ξανά μέχρι να μην πληροείται πλέον η συνθήκη που δίνεται!</p>"
   ]
  },
  {
   "cell_type": "markdown",
   "metadata": {},
   "source": [
    "### Δομή του While\n",
    "\n",
    "\n",
    "Η γενική και η πιο απλή δομή του while είναι:\n",
    "\n",
    "    while some_boolean_condition:\n",
    "        #do something\n",
    "\n",
    "Όμως μπορεί να γίνει και προσθήκη του else\n",
    "\n",
    "    while some_boolean_condition:\n",
    "        #do something\n",
    "    else:\n",
    "        #do something different\n"
   ]
  },
  {
   "cell_type": "markdown",
   "metadata": {},
   "source": [
    "<p> και αυτή είναι η βασική ιδέα των επαναλήψεων While, ας τα κατανοήσουμε μέσω μερικών παραδειγμάτων </p>"
   ]
  },
  {
   "cell_type": "code",
   "execution_count": 37,
   "metadata": {},
   "outputs": [
    {
     "name": "stdout",
     "output_type": "stream",
     "text": [
      "x is currently:  0\n",
      " x is still less than 10, adding 1 to x\n",
      "x is currently:  1\n",
      " x is still less than 10, adding 1 to x\n",
      "x is currently:  2\n",
      " x is still less than 10, adding 1 to x\n",
      "x is currently:  3\n",
      " x is still less than 10, adding 1 to x\n",
      "x is currently:  4\n",
      " x is still less than 10, adding 1 to x\n",
      "x is currently:  5\n",
      " x is still less than 10, adding 1 to x\n",
      "x is currently:  6\n",
      " x is still less than 10, adding 1 to x\n",
      "x is currently:  7\n",
      " x is still less than 10, adding 1 to x\n",
      "x is currently:  8\n",
      " x is still less than 10, adding 1 to x\n",
      "x is currently:  9\n",
      " x is still less than 10, adding 1 to x\n",
      "All Done!\n"
     ]
    }
   ],
   "source": [
    "x = 0\n",
    "\n",
    "while x < 10: # Η συνθήκη θα σταματήσει να ισχύει μόνο όταν x>=10\n",
    "    print('x is currently: ',x)\n",
    "    print(' x is still less than 10, adding 1 to x')\n",
    "    x+=1      # Ισούται με x = x + 1\n",
    "        \n",
    "else:         # Με την προσθήκη του else, όταν σταμτήσει να ισχύει η συνθήκη του while\n",
    "    print('All Done!')"
   ]
  },
  {
   "cell_type": "markdown",
   "metadata": {},
   "source": [
    "Ας δούμε το παραπάνω παράδειγμα με διαφορετική τιμή για το x για να καταλάβουμε καλύτερα το else"
   ]
  },
  {
   "cell_type": "code",
   "execution_count": 39,
   "metadata": {},
   "outputs": [
    {
     "name": "stdout",
     "output_type": "stream",
     "text": [
      "All Done!\n"
     ]
    }
   ],
   "source": [
    "x = 11\n",
    "\n",
    "while x < 10: \n",
    "    print('x is currently: ',x)\n",
    "    print(' x is still less than 10, adding 1 to x')\n",
    "    x+=1      \n",
    "        \n",
    "else:         \n",
    "    print('All Done!')"
   ]
  },
  {
   "cell_type": "markdown",
   "metadata": {},
   "source": [
    " Επειδή το x είναι 11 η συνθήκη του while είναι αυτομάτως αληθής, επομένως ο κώδικας οδηγείται το else και υλοποιεί τον κώδικα χωρίς να λάβει υπόψην του το πρώτο κομμάτι της επανάληψης"
   ]
  },
  {
   "cell_type": "markdown",
   "metadata": {},
   "source": [
    "### break, continue, pass Μερικές χρήσιμες εντολες\n",
    "\n",
    "<p> Στα while loops, και όχι μόνο, είναι πολύ σημαντικό να γνωρίζουμε ή και να χρησιμοποιούμε τις παραπάνω εντολές! <br>\n",
    "Η κάθε μία έχει την δική της ιδιότητα όπου την κάνει ιδιαίτερα χρήσιμη. Πιο συγκεκριμένα :</p>\n",
    "<br>\n",
    "<li>  break: Σπάει εκτός του βρόχου και σταματά την επανάληψη.</li>\n",
    "<li>  continue: Πάει στην αρχή της πιο κοντινής επανάληψης. </li>\n",
    "<li>  pass: Δεν κάνει απολύτως τίποτα, απλά δίνει την δυνατότητα προσπέλασης του κώδικα.</li>\n",
    "\n",
    "#### Η Δομή τους \n",
    "\n",
    "       while test: \n",
    "            code statement\n",
    "            if test: \n",
    "                break\n",
    "            if test: \n",
    "                continue \n",
    "        else:\n"
   ]
  },
  {
   "cell_type": "markdown",
   "metadata": {},
   "source": [
    "Ας δούμε μερικά παραδείγματα!"
   ]
  },
  {
   "cell_type": "markdown",
   "metadata": {},
   "source": [
    "#### continue"
   ]
  },
  {
   "cell_type": "code",
   "execution_count": 40,
   "metadata": {},
   "outputs": [
    {
     "name": "stdout",
     "output_type": "stream",
     "text": [
      "x is currently:  0\n",
      " x is still less than 10, adding 1 to x\n",
      "continuing...\n",
      "x is currently:  1\n",
      " x is still less than 10, adding 1 to x\n",
      "continuing...\n",
      "x is currently:  2\n",
      " x is still less than 10, adding 1 to x\n",
      "x==3\n",
      "x is currently:  3\n",
      " x is still less than 10, adding 1 to x\n",
      "continuing...\n",
      "x is currently:  4\n",
      " x is still less than 10, adding 1 to x\n",
      "continuing...\n",
      "x is currently:  5\n",
      " x is still less than 10, adding 1 to x\n",
      "continuing...\n",
      "x is currently:  6\n",
      " x is still less than 10, adding 1 to x\n",
      "continuing...\n",
      "x is currently:  7\n",
      " x is still less than 10, adding 1 to x\n",
      "continuing...\n",
      "x is currently:  8\n",
      " x is still less than 10, adding 1 to x\n",
      "continuing...\n",
      "x is currently:  9\n",
      " x is still less than 10, adding 1 to x\n",
      "continuing...\n"
     ]
    }
   ],
   "source": [
    "x = 0\n",
    "\n",
    "while x < 10:\n",
    "    print('x is currently: ',x)\n",
    "    print(' x is still less than 10, adding 1 to x')\n",
    "    x+=1\n",
    "    if x==3:\n",
    "        print('x==3')\n",
    "    else:\n",
    "        print('continuing...') \n",
    "        continue # Βγαίνει από την else και επιστρέφει στο while μέχρι το x να είναι 3 όπου ισχυεί η συνάρτηση του if"
   ]
  },
  {
   "cell_type": "markdown",
   "metadata": {},
   "source": [
    "#### break"
   ]
  },
  {
   "cell_type": "code",
   "execution_count": 41,
   "metadata": {},
   "outputs": [
    {
     "name": "stdout",
     "output_type": "stream",
     "text": [
      "x is currently:  0\n",
      " x is still less than 10, adding 1 to x\n",
      "continuing...\n",
      "x is currently:  1\n",
      " x is still less than 10, adding 1 to x\n",
      "continuing...\n",
      "x is currently:  2\n",
      " x is still less than 10, adding 1 to x\n",
      "Breaking because x==3\n"
     ]
    }
   ],
   "source": [
    "x = 0\n",
    "\n",
    "while x < 10:\n",
    "    print('x is currently: ',x)\n",
    "    print(' x is still less than 10, adding 1 to x')\n",
    "    x+=1\n",
    "    if x==3:\n",
    "        print('Breaking because x==3')\n",
    "        break  # όταν το x γίνει 3 ανεξαρτήτως του while σπάει εκτός του βρόχου!\n",
    "    else:\n",
    "        print('continuing...')\n",
    "        continue"
   ]
  },
  {
   "cell_type": "markdown",
   "metadata": {},
   "source": [
    "#### pass"
   ]
  },
  {
   "cell_type": "code",
   "execution_count": 1,
   "metadata": {},
   "outputs": [],
   "source": [
    "x = 3 \n",
    "\n",
    "if x == 3:\n",
    "    pass"
   ]
  }
 ],
 "metadata": {
  "kernelspec": {
   "display_name": "Python 3",
   "language": "python",
   "name": "python3"
  },
  "language_info": {
   "codemirror_mode": {
    "name": "ipython",
    "version": 3
   },
   "file_extension": ".py",
   "mimetype": "text/x-python",
   "name": "python",
   "nbconvert_exporter": "python",
   "pygments_lexer": "ipython3",
   "version": "3.8.5"
  }
 },
 "nbformat": 4,
 "nbformat_minor": 4
}
