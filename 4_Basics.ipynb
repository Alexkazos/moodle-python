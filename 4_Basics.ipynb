{
 "cells": [
  {
   "cell_type": "markdown",
   "id": "0c53fec0",
   "metadata": {},
   "source": [
    "<a href=\"https://www.uniwa.gr/\"> <img src='https://www.uniwa.gr/wp-content/uploads/2020/02/Logo-for-use-in-white-background.png'/></a>\n",
    "___\n",
    "<center><em> Copyright by University Of West Attica</em></center>"
   ]
  },
  {
   "cell_type": "code",
   "execution_count": 2,
   "id": "afcc590d",
   "metadata": {},
   "outputs": [],
   "source": [
    "lst = [1, 2, 3, 4]"
   ]
  },
  {
   "cell_type": "code",
   "execution_count": 8,
   "id": "eb3fee55",
   "metadata": {},
   "outputs": [
    {
     "ename": "SyntaxError",
     "evalue": "invalid syntax (Temp/ipykernel_15616/3731617348.py, line 1)",
     "output_type": "error",
     "traceback": [
      "\u001b[1;36m  File \u001b[1;32m\"C:\\Users\\mario\\AppData\\Local\\Temp/ipykernel_15616/3731617348.py\"\u001b[1;36m, line \u001b[1;32m1\u001b[0m\n\u001b[1;33m    STACK OVERFLOW !!!!!!!!!!!!!!!!!!!!!!!!!!!!!!! MOTHERFUCKERS\u001b[0m\n\u001b[1;37m          ^\u001b[0m\n\u001b[1;31mSyntaxError\u001b[0m\u001b[1;31m:\u001b[0m invalid syntax\n"
     ]
    }
   ],
   "source": [
    "STACK OVERFLOW !!!!!!!!!!!!!!!!!!!!!!!!!!!!!!! MOTHERFUCKERS"
   ]
  },
  {
   "cell_type": "code",
   "execution_count": null,
   "id": "a8a08715",
   "metadata": {},
   "outputs": [],
   "source": []
  }
 ],
 "metadata": {
  "kernelspec": {
   "display_name": "Python 3 (ipykernel)",
   "language": "python",
   "name": "python3"
  },
  "language_info": {
   "codemirror_mode": {
    "name": "ipython",
    "version": 3
   },
   "file_extension": ".py",
   "mimetype": "text/x-python",
   "name": "python",
   "nbconvert_exporter": "python",
   "pygments_lexer": "ipython3",
   "version": "3.9.7"
  }
 },
 "nbformat": 4,
 "nbformat_minor": 5
}
