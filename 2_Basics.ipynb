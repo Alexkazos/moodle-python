{
 "cells": [
  {
   "cell_type": "markdown",
   "metadata": {},
   "source": [
    "<a href=\"https://www.uniwa.gr/\"> <img src='https://www.uniwa.gr/wp-content/uploads/2020/02/Logo-for-use-in-white-background.png'/></a>\n",
    "___\n",
    "<center><em> Copyright by University Of West Attica</em></center>"
   ]
  },
  {
   "cell_type": "markdown",
   "metadata": {},
   "source": [
    "# Lists/ Λίστες\n"
   ]
  },
  {
   "cell_type": "markdown",
   "metadata": {},
   "source": [
    "<p>Νωρίτερα είχαμε αναφερθεί για τα strings και εισάγαγαμε την έννοια της σειράς. Οι λίστες μπορούν να θεωρηθούν ως η πιο γενική έκδοση της σειράς-ακολουθίας στην Python. Σε αντίθεση με τα strings, είναι μεταβλητα που σημαίνει ότι τα στοιχεια που είναι μέσα σε μια λίστα μπορούν να αλλάξουν.</p>\n",
    "<br> </br>\n",
    "<p>Παρακάτω θα δούμε πως: </p>\n",
    "<br> </br>\n",
    "<li> Δημιουργουμε μια λίστα </li>\n",
    "<li> Μπορούμε να επεξεργαστούμε το περιεχόμενο σε μια λίστα </li>\n",
    "<li> Λειτουργούν οι βασικές μέθοδοι </li>\n",
    "<li> Δημιουργουμε μια εμφωλευμένη λίστα </li>\n",
    "\n",
    "<br> </br>\n",
    "<p> Τέλος, οι λίστες κατασκευάζονται με αγκύλες [] και κάθε στοιχείο το ξεχωρίζουμε με το κόμμα ,"
   ]
  },
  {
   "cell_type": "code",
   "execution_count": 9,
   "metadata": {},
   "outputs": [],
   "source": [
    "# Αναθετω σε μια μεταβλητή το όνομα my_list\n",
    "my_list = [1,2,3]"
   ]
  },
  {
   "cell_type": "markdown",
   "metadata": {},
   "source": [
    "<p> Μόλις δημιουργήσαμε μια λίστα από ακέραιους αλλά σε μια λίστα μπορώ να έχω διαφορετικούς τύπους αντικειμένων. Για παράδειγμα </p>"
   ]
  },
  {
   "cell_type": "code",
   "execution_count": 10,
   "metadata": {},
   "outputs": [],
   "source": [
    "my_list = ['A string',23,100.232,'o']"
   ]
  },
  {
   "cell_type": "markdown",
   "metadata": {},
   "source": [
    "<p> Όπως και στα strings η εντολή len() θα μας δείξει πόσα στοιχεία εμπεριέχονται στην λίστα μας </p>"
   ]
  },
  {
   "cell_type": "code",
   "execution_count": 11,
   "metadata": {},
   "outputs": [
    {
     "data": {
      "text/plain": [
       "4"
      ]
     },
     "execution_count": 11,
     "metadata": {},
     "output_type": "execute_result"
    }
   ],
   "source": [
    "len(my_list)"
   ]
  },
  {
   "cell_type": "markdown",
   "metadata": {},
   "source": [
    "### Επεξέργασία περιεχομένου λίστας"
   ]
  },
  {
   "cell_type": "markdown",
   "metadata": {},
   "source": [
    "<p> Μπορούμε να προσθέσουμε, να αφαιρέσουμε, να πάρουμε αποτέλεσμα από μία λίστα όπως ακριβώς κάναμε και στα strings </p>"
   ]
  },
  {
   "cell_type": "code",
   "execution_count": 12,
   "metadata": {},
   "outputs": [],
   "source": [
    "my_list = ['one','two','three',4,5]"
   ]
  },
  {
   "cell_type": "code",
   "execution_count": 13,
   "metadata": {},
   "outputs": [
    {
     "data": {
      "text/plain": [
       "'one'"
      ]
     },
     "execution_count": 13,
     "metadata": {},
     "output_type": "execute_result"
    }
   ],
   "source": [
    "# Κράτα το στοιχείου του index 0\n",
    "my_list[0]"
   ]
  },
  {
   "cell_type": "code",
   "execution_count": 14,
   "metadata": {},
   "outputs": [
    {
     "data": {
      "text/plain": [
       "['two', 'three', 4, 5]"
      ]
     },
     "execution_count": 14,
     "metadata": {},
     "output_type": "execute_result"
    }
   ],
   "source": [
    "# Κράτα περιεχόμενο από το 1 και ότι ακολουθεί μετά\n",
    "my_list[1:]"
   ]
  },
  {
   "cell_type": "code",
   "execution_count": 15,
   "metadata": {},
   "outputs": [
    {
     "data": {
      "text/plain": [
       "['one', 'two', 'three']"
      ]
     },
     "execution_count": 15,
     "metadata": {},
     "output_type": "execute_result"
    }
   ],
   "source": [
    "# Κράτα τα πάντα μέχρι να γίνει το περιεχόμενο 3\n",
    "my_list[:3]"
   ]
  },
  {
   "cell_type": "markdown",
   "metadata": {},
   "source": [
    "<p>Προσθετουμε στοιχεία όπως κάναμε και στα strings </p>"
   ]
  },
  {
   "cell_type": "code",
   "execution_count": 16,
   "metadata": {},
   "outputs": [
    {
     "data": {
      "text/plain": [
       "['one', 'two', 'three', 4, 5, 'new item']"
      ]
     },
     "execution_count": 16,
     "metadata": {},
     "output_type": "execute_result"
    }
   ],
   "source": [
    "my_list + ['new item']"
   ]
  },
  {
   "cell_type": "markdown",
   "metadata": {},
   "source": [
    "<p>Σημείωση: Αυτό στην πραγματικότητα δεν αλλάζει την λίστα μας</p>"
   ]
  },
  {
   "cell_type": "code",
   "execution_count": 17,
   "metadata": {},
   "outputs": [
    {
     "data": {
      "text/plain": [
       "['one', 'two', 'three', 4, 5]"
      ]
     },
     "execution_count": 17,
     "metadata": {},
     "output_type": "execute_result"
    }
   ],
   "source": [
    "my_list"
   ]
  },
  {
   "cell_type": "markdown",
   "metadata": {},
   "source": [
    "<p>Πρέπει να ξαναναφέρω την λίστα μου για να αλλάξει το αποτέλεσμα</p>"
   ]
  },
  {
   "cell_type": "code",
   "execution_count": 18,
   "metadata": {},
   "outputs": [],
   "source": [
    "my_list = my_list + ['add new item permanently']"
   ]
  },
  {
   "cell_type": "code",
   "execution_count": 19,
   "metadata": {},
   "outputs": [
    {
     "data": {
      "text/plain": [
       "['one', 'two', 'three', 4, 5, 'add new item permanently']"
      ]
     },
     "execution_count": 19,
     "metadata": {},
     "output_type": "execute_result"
    }
   ],
   "source": [
    "my_list"
   ]
  },
  {
   "cell_type": "markdown",
   "metadata": {},
   "source": [
    "<p>Μπορούμε να χρησιμοποιήσουμε το * για να αναπαράγουμε όσες φορές θέλουμε την λίστα μας</p>"
   ]
  },
  {
   "cell_type": "code",
   "execution_count": 20,
   "metadata": {},
   "outputs": [
    {
     "data": {
      "text/plain": [
       "['one',\n",
       " 'two',\n",
       " 'three',\n",
       " 4,\n",
       " 5,\n",
       " 'add new item permanently',\n",
       " 'one',\n",
       " 'two',\n",
       " 'three',\n",
       " 4,\n",
       " 5,\n",
       " 'add new item permanently']"
      ]
     },
     "execution_count": 20,
     "metadata": {},
     "output_type": "execute_result"
    }
   ],
   "source": [
    "# Διπλασίασε την λίστα\n",
    "my_list * 2"
   ]
  },
  {
   "cell_type": "markdown",
   "metadata": {},
   "source": [
    "### Βασικές μέθοδοι για τις λίστες"
   ]
  },
  {
   "cell_type": "code",
   "execution_count": 21,
   "metadata": {},
   "outputs": [],
   "source": [
    "# Δημιούργησε μια λίστα\n",
    "list1 = [1,2,3]"
   ]
  },
  {
   "cell_type": "markdown",
   "metadata": {},
   "source": [
    "<p>Χρησιμοποίησε την append μέθοδο για να προσθέσεις ένα στοιχείο στο τέλος της λίστας </p>"
   ]
  },
  {
   "cell_type": "code",
   "execution_count": 22,
   "metadata": {},
   "outputs": [],
   "source": [
    "# Append\n",
    "list1.append('append me!')"
   ]
  },
  {
   "cell_type": "code",
   "execution_count": 23,
   "metadata": {},
   "outputs": [
    {
     "data": {
      "text/plain": [
       "[1, 2, 3, 'append me!']"
      ]
     },
     "execution_count": 23,
     "metadata": {},
     "output_type": "execute_result"
    }
   ],
   "source": [
    "list1"
   ]
  },
  {
   "cell_type": "markdown",
   "metadata": {},
   "source": [
    "<p>Χρησιμοποίησε την pop συνάρτηση για να διαγραάψεις όποιο στοιχείο επιθυμείς μέσα από μια λίστα </p>"
   ]
  },
  {
   "cell_type": "code",
   "execution_count": 24,
   "metadata": {},
   "outputs": [
    {
     "data": {
      "text/plain": [
       "1"
      ]
     },
     "execution_count": 24,
     "metadata": {},
     "output_type": "execute_result"
    }
   ],
   "source": [
    "# Pop off το πρώτο στοιχείο (0)\n",
    "list1.pop(0)"
   ]
  },
  {
   "cell_type": "code",
   "execution_count": 25,
   "metadata": {},
   "outputs": [
    {
     "data": {
      "text/plain": [
       "[2, 3, 'append me!']"
      ]
     },
     "execution_count": 25,
     "metadata": {},
     "output_type": "execute_result"
    }
   ],
   "source": [
    "list1"
   ]
  },
  {
   "cell_type": "code",
   "execution_count": 26,
   "metadata": {},
   "outputs": [],
   "source": [
    "# Ανάθεση στο διεγραμμένο στοιχείο, θυμήσου ότι by_default το διεγραμμένο στοιχείο έχει την τιμή -1\n",
    "popped_item = list1.pop()"
   ]
  },
  {
   "cell_type": "code",
   "execution_count": 27,
   "metadata": {},
   "outputs": [
    {
     "data": {
      "text/plain": [
       "'append me!'"
      ]
     },
     "execution_count": 27,
     "metadata": {},
     "output_type": "execute_result"
    }
   ],
   "source": [
    "popped_item"
   ]
  },
  {
   "cell_type": "code",
   "execution_count": 28,
   "metadata": {},
   "outputs": [
    {
     "data": {
      "text/plain": [
       "[2, 3]"
      ]
     },
     "execution_count": 28,
     "metadata": {},
     "output_type": "execute_result"
    }
   ],
   "source": [
    "list1"
   ]
  },
  {
   "cell_type": "markdown",
   "metadata": {},
   "source": [
    "<p>Σημείωση: Αν δοθεί για μια λίστα κάποιο στοιχείο το οποίο δεν υπάρχει θα επιστρέψει error. Για παράδειγμα </p>"
   ]
  },
  {
   "cell_type": "code",
   "execution_count": 29,
   "metadata": {},
   "outputs": [
    {
     "ename": "IndexError",
     "evalue": "list index out of range",
     "output_type": "error",
     "traceback": [
      "\u001b[1;31m---------------------------------------------------------------------------\u001b[0m",
      "\u001b[1;31mIndexError\u001b[0m                                Traceback (most recent call last)",
      "\u001b[1;32m~\\AppData\\Local\\Temp/ipykernel_7968/4101094531.py\u001b[0m in \u001b[0;36m<module>\u001b[1;34m\u001b[0m\n\u001b[1;32m----> 1\u001b[1;33m \u001b[0mlist1\u001b[0m\u001b[1;33m[\u001b[0m\u001b[1;36m100\u001b[0m\u001b[1;33m]\u001b[0m\u001b[1;33m\u001b[0m\u001b[1;33m\u001b[0m\u001b[0m\n\u001b[0m",
      "\u001b[1;31mIndexError\u001b[0m: list index out of range"
     ]
    }
   ],
   "source": [
    "list1[100]"
   ]
  },
  {
   "cell_type": "markdown",
   "metadata": {},
   "source": [
    "<p>Μπορούμε επίσης να χρησιμοποίησουμε την συνάρτηση sort και reverse για να πείραξουμε τα αποτελέσματα σε μια λίστα</p>"
   ]
  },
  {
   "cell_type": "code",
   "execution_count": 30,
   "metadata": {},
   "outputs": [],
   "source": [
    "new_list = ['a','e','x','b','c']"
   ]
  },
  {
   "cell_type": "code",
   "execution_count": 31,
   "metadata": {},
   "outputs": [
    {
     "data": {
      "text/plain": [
       "['a', 'e', 'x', 'b', 'c']"
      ]
     },
     "execution_count": 31,
     "metadata": {},
     "output_type": "execute_result"
    }
   ],
   "source": [
    "new_list"
   ]
  },
  {
   "cell_type": "code",
   "execution_count": 32,
   "metadata": {},
   "outputs": [],
   "source": [
    "# Χρησιμοποίησε reverse για να κάνει reverse order (είναι μόνιμο!)\n",
    "new_list.reverse()"
   ]
  },
  {
   "cell_type": "code",
   "execution_count": 33,
   "metadata": {},
   "outputs": [
    {
     "data": {
      "text/plain": [
       "['c', 'b', 'x', 'e', 'a']"
      ]
     },
     "execution_count": 33,
     "metadata": {},
     "output_type": "execute_result"
    }
   ],
   "source": [
    "new_list"
   ]
  },
  {
   "cell_type": "code",
   "execution_count": 35,
   "metadata": {},
   "outputs": [],
   "source": [
    "# Χρησιμοποίησε την sort για να κάνει sort την λίστα (σε αυτή την περίπτωση είναι για αλφαβητική σειρά,αλλά και για νούμερα όπου θα γίνει με αύξουσα σειρά)\n",
    "new_list.sort()"
   ]
  },
  {
   "cell_type": "code",
   "execution_count": 36,
   "metadata": {},
   "outputs": [
    {
     "data": {
      "text/plain": [
       "['a', 'b', 'c', 'e', 'x']"
      ]
     },
     "execution_count": 36,
     "metadata": {},
     "output_type": "execute_result"
    }
   ],
   "source": [
    "new_list"
   ]
  },
  {
   "cell_type": "markdown",
   "metadata": {},
   "source": [
    "### Εμφωλευμένες λίστες"
   ]
  },
  {
   "cell_type": "markdown",
   "metadata": {},
   "source": [
    "<p>Ένα πολύ σημαντικό χαρακτηριστικό στην Python είναι ότι έχεις την δυνατότητα μέσα σε μία ήδη υπάρχουσα λίστα να έχεις και άλλη λίστα. Μπορείς δηλαδή να έχεις ένα data structure μέσα σε ένα άλλο. </p>"
   ]
  },
  {
   "cell_type": "code",
   "execution_count": 2,
   "metadata": {},
   "outputs": [],
   "source": [
    "# Ας φτιάξουμε 3 λίστες\n",
    "lst_1=[1,2,3]\n",
    "lst_2=[4,5,6]\n",
    "lst_3=[7,8,9]\n",
    "\n",
    "# Ας φτιάξουμε ένα πίνακα με τις 3 ήδη υπάρχουσες λίστες\n",
    "matrix = [lst_1,lst_2,lst_3]"
   ]
  },
  {
   "cell_type": "code",
   "execution_count": 3,
   "metadata": {},
   "outputs": [
    {
     "data": {
      "text/plain": [
       "[[1, 2, 3], [4, 5, 6], [7, 8, 9]]"
      ]
     },
     "execution_count": 3,
     "metadata": {},
     "output_type": "execute_result"
    }
   ],
   "source": [
    "matrix"
   ]
  },
  {
   "cell_type": "markdown",
   "metadata": {},
   "source": [
    "<p>Μπορούμε τώρα στον συγκεκριμένο πίνακα να χρησιμοποιήσουμε τις παραπάνω συναρτήσεις-εντολές για να επεξεργαστούμε το περιεχόμενο του πίνακα και συγκεκριμένα τις τιμές της κάθε λίστας.</p>"
   ]
  },
  {
   "cell_type": "code",
   "execution_count": 4,
   "metadata": {},
   "outputs": [
    {
     "data": {
      "text/plain": [
       "[1, 2, 3]"
      ]
     },
     "execution_count": 4,
     "metadata": {},
     "output_type": "execute_result"
    }
   ],
   "source": [
    "# Δώσε μας το πρώτο αντικείμενο του πίνακα\n",
    "matrix[0]"
   ]
  },
  {
   "cell_type": "code",
   "execution_count": 5,
   "metadata": {},
   "outputs": [
    {
     "data": {
      "text/plain": [
       "1"
      ]
     },
     "execution_count": 5,
     "metadata": {},
     "output_type": "execute_result"
    }
   ],
   "source": [
    "# Πάρε από την πώτη λίστα το πρώτο στοιχείο της\n",
    "matrix[0][0]"
   ]
  },
  {
   "cell_type": "markdown",
   "metadata": {},
   "source": [
    "# Dictionaries/Λεξικά"
   ]
  },
  {
   "cell_type": "markdown",
   "metadata": {},
   "source": [
    "<p>Μάθαμε λοιπόν για τις ακολουθίες στην Python, αλλά τώρα θα αλλάξουμε ταχύτητα και θα μάθουμε για τις αντιστοιχίσεις στην Python.</p>\n",
    "<br></br>\n",
    "<p>Αυτή η ενότητα θα χρησιμεύσει ως μια σύντομη εισαγωγή στα λεξικά και αποτελείται από:</p>\n",
    "\n",
    "\n",
    " <li>Κατασκευή Λεξικού</li>\n",
    " <li>Πρόσβαση σε αντικείμενα από λεξικό</li>\n",
    " <li>Φωλιασμένα λεξικά</li>\n",
    " <li>Βασικές μέθοδοι λεξικού</li>\n",
    " "
   ]
  },
  {
   "cell_type": "markdown",
   "metadata": {},
   "source": [
    "<p> Οι αντιστοιχίσεις είναι μια συλλογή αντικειμένων που αποθηκεύονται σε ένα κλειδί, σε αντίθεση με μια ακολουθία που αποθηκεύει αντικείμενα με βάση τη σχετική τους θέση. Αυτή είναι μια σημαντική διάκριση, καθώς οι αντιστοιχίσεις δεν θα διατηρήσουν τη σειρά, καθώς έχουν αντικείμενα που ορίζονται από ένα κλειδί.\n",
    "\n",
    "Ένα λεξικό αποτελείται από ένα κλειδί και μετά από μια σχετική τιμή. Αυτή η τιμή μπορεί να είναι σχεδόν οποιοδήποτε αντικείμενο. </p>"
   ]
  },
  {
   "cell_type": "markdown",
   "metadata": {},
   "source": [
    "### Κατασκευή ενός λεξικού "
   ]
  },
  {
   "cell_type": "code",
   "execution_count": 9,
   "metadata": {},
   "outputs": [],
   "source": [
    "# Κατασκευή λεξικού με {} και : για να σημάνουμε το κλειδί και την τιμή του\n",
    "my_dict = {'key1':'value1','key2':'value2'}"
   ]
  },
  {
   "cell_type": "code",
   "execution_count": 10,
   "metadata": {},
   "outputs": [
    {
     "data": {
      "text/plain": [
       "'value2'"
      ]
     },
     "execution_count": 10,
     "metadata": {},
     "output_type": "execute_result"
    }
   ],
   "source": [
    "# Φώναξε την τιμή ανάλογαμε το κλειδί της\n",
    "my_dict['key2']"
   ]
  },
  {
   "cell_type": "markdown",
   "metadata": {},
   "source": [
    "<p>Σημείωση: Τα λεξικά είναι πολύ εύχρηστα στην διατήρηση διαφόρων τύπων δεδομένων. Για παράδειγμα</p>"
   ]
  },
  {
   "cell_type": "code",
   "execution_count": 11,
   "metadata": {},
   "outputs": [],
   "source": [
    "my_dict = {'key1':123,'key2':[12,23,33],'key3':['item0','item1','item2']}"
   ]
  },
  {
   "cell_type": "code",
   "execution_count": 12,
   "metadata": {},
   "outputs": [
    {
     "data": {
      "text/plain": [
       "['item0', 'item1', 'item2']"
      ]
     },
     "execution_count": 12,
     "metadata": {},
     "output_type": "execute_result"
    }
   ],
   "source": [
    "# Φωνάζουμε στοιχεία μέσα από το λεξικό\n",
    "my_dict['key3']"
   ]
  },
  {
   "cell_type": "code",
   "execution_count": 13,
   "metadata": {},
   "outputs": [
    {
     "data": {
      "text/plain": [
       "'item0'"
      ]
     },
     "execution_count": 13,
     "metadata": {},
     "output_type": "execute_result"
    }
   ],
   "source": [
    "# Μπορώ να ζητήσω ένα στοιχείο με συγκεκριμένη τιμή\n",
    "my_dict['key3'][0]"
   ]
  },
  {
   "cell_type": "code",
   "execution_count": 15,
   "metadata": {},
   "outputs": [
    {
     "data": {
      "text/plain": [
       "'ITEM0'"
      ]
     },
     "execution_count": 15,
     "metadata": {},
     "output_type": "execute_result"
    }
   ],
   "source": [
    "# Μπορώ να χρησιμοποιήσω μεθόδους για κάποια τιμή του λεξικού\n",
    "my_dict['key3'][0].upper()"
   ]
  },
  {
   "cell_type": "markdown",
   "metadata": {},
   "source": [
    "<p>Μπορούμε να επηρεάσουμε τις τιμές μέσα στα λεξικά</p>"
   ]
  },
  {
   "cell_type": "code",
   "execution_count": 16,
   "metadata": {},
   "outputs": [
    {
     "data": {
      "text/plain": [
       "123"
      ]
     },
     "execution_count": 16,
     "metadata": {},
     "output_type": "execute_result"
    }
   ],
   "source": [
    "my_dict['key1']"
   ]
  },
  {
   "cell_type": "code",
   "execution_count": 17,
   "metadata": {},
   "outputs": [],
   "source": [
    "# Αφαίρεσαι το 123 από την τιμή\n",
    "my_dict['key1'] = my_dict['key1'] - 123"
   ]
  },
  {
   "cell_type": "code",
   "execution_count": 18,
   "metadata": {
    "scrolled": true
   },
   "outputs": [
    {
     "data": {
      "text/plain": [
       "0"
      ]
     },
     "execution_count": 18,
     "metadata": {},
     "output_type": "execute_result"
    }
   ],
   "source": [
    "my_dict['key1']"
   ]
  },
  {
   "cell_type": "markdown",
   "metadata": {},
   "source": [
    "<p>Σημείωση: Η Python έχει μια ενσωματωμένη μέθοδο για να κάνει μια αφαίρεση ή πρόσθεση (ή πολλαπλασιασμό ή διαίρεση). Θα μπορούσαμε επίσης να χρησιμοποιήσουμε += ή -= για την παραπάνω πρόταση. Για παράδειγμα: </p>"
   ]
  },
  {
   "cell_type": "code",
   "execution_count": 19,
   "metadata": {},
   "outputs": [
    {
     "data": {
      "text/plain": [
       "-123"
      ]
     },
     "execution_count": 19,
     "metadata": {},
     "output_type": "execute_result"
    }
   ],
   "source": [
    "# Θέσε το αντικείμενο ίσο με τον εαυτό του και ταυτόχρονα αφαίρεσε 123\n",
    "my_dict['key1'] -= 123\n",
    "my_dict['key1']"
   ]
  },
  {
   "cell_type": "markdown",
   "metadata": {},
   "source": [
    "<p>Μπορούμε επίσης να δημιουργήσουμε κλειδιά με ανάθεση. Για παράδειγμα, αν ξεκινούσαμε με ένα κενό λεξικό, θα μπορούσαμε να προσθέτουμε συνεχώς σε αυτό:</p>\n"
   ]
  },
  {
   "cell_type": "code",
   "execution_count": 20,
   "metadata": {},
   "outputs": [],
   "source": [
    "# Δημιούργησε ένα νέο λεξικό\n",
    "d = {}"
   ]
  },
  {
   "cell_type": "code",
   "execution_count": 21,
   "metadata": {},
   "outputs": [],
   "source": [
    "# Δημιούργησε ένα καινούριο κλειδί με ανάθεση\n",
    "d['animal'] = 'Dog'"
   ]
  },
  {
   "cell_type": "code",
   "execution_count": 22,
   "metadata": {},
   "outputs": [],
   "source": [
    "# Το ίδιο με άλλο κλει΄δί και ανάθεση\n",
    "d['answer'] = 42"
   ]
  },
  {
   "cell_type": "code",
   "execution_count": 23,
   "metadata": {},
   "outputs": [
    {
     "data": {
      "text/plain": [
       "{'animal': 'Dog', 'answer': 42}"
      ]
     },
     "execution_count": 23,
     "metadata": {},
     "output_type": "execute_result"
    }
   ],
   "source": [
    "d"
   ]
  },
  {
   "cell_type": "markdown",
   "metadata": {},
   "source": [
    "### Εμφωλιασμένα λεξικά\n",
    "\n",
    "<p>Ας ελπίσουμε ότι έχετε αρχίσει να βλέπετε πόσο ισχυρή είναι η Python με την ευελιξία της να τοποθετεί αντικείμενα και να καλεί μεθόδους σε αυτά. Ας δούμε ένα λεξικό εμφωλιασμένο σε ένα λεξικό:</p>"
   ]
  },
  {
   "cell_type": "code",
   "execution_count": 25,
   "metadata": {},
   "outputs": [],
   "source": [
    "# Λεξικό εμφωλιασμένο σε άλλο λεξικό και με την σειρά του εμφωλιασμένο σε άλλο λεξικό\n",
    "d = {'key1':{'nestkey':{'subnestkey':'value'}}}"
   ]
  },
  {
   "cell_type": "code",
   "execution_count": 26,
   "metadata": {},
   "outputs": [
    {
     "data": {
      "text/plain": [
       "'value'"
      ]
     },
     "execution_count": 26,
     "metadata": {},
     "output_type": "execute_result"
    }
   ],
   "source": [
    "# θα καλέσουμε τις τιμές που θέλουμε με τον τρόπο που ήδη γνωρίζουμε\n",
    "d['key1']['nestkey']['subnestkey']"
   ]
  },
  {
   "cell_type": "markdown",
   "metadata": {},
   "source": [
    "### Βασικές μέθοδοι λεξικού\n",
    "\n",
    "<p> Υπάρχουν κάποιες βασικοί μέθοδοι για τα λεξικά. Θα δούμε μια μικρή εισαγωγή παρακάτω.</p>"
   ]
  },
  {
   "cell_type": "code",
   "execution_count": 27,
   "metadata": {},
   "outputs": [],
   "source": [
    "# Δημιουργία λεξικού\n",
    "d = {'key1':1,'key2':2,'key3':3}"
   ]
  },
  {
   "cell_type": "code",
   "execution_count": 28,
   "metadata": {},
   "outputs": [
    {
     "data": {
      "text/plain": [
       "dict_keys(['key1', 'key2', 'key3'])"
      ]
     },
     "execution_count": 28,
     "metadata": {},
     "output_type": "execute_result"
    }
   ],
   "source": [
    "# Μέθοδος που επιστρέφει τα κλειδιά μια λίστας\n",
    "d.keys()"
   ]
  },
  {
   "cell_type": "code",
   "execution_count": 29,
   "metadata": {},
   "outputs": [
    {
     "data": {
      "text/plain": [
       "dict_values([1, 2, 3])"
      ]
     },
     "execution_count": 29,
     "metadata": {},
     "output_type": "execute_result"
    }
   ],
   "source": [
    "# Μέθοδος που παίρνει όλες τιες τιμές\n",
    "d.values()"
   ]
  },
  {
   "cell_type": "code",
   "execution_count": 30,
   "metadata": {},
   "outputs": [
    {
     "data": {
      "text/plain": [
       "dict_items([('key1', 1), ('key2', 2), ('key3', 3)])"
      ]
     },
     "execution_count": 30,
     "metadata": {},
     "output_type": "execute_result"
    }
   ],
   "source": [
    "# Μέθοδος που επιστρέφει tuples όλων των αντικειμένων  (θα δούμε τι είναι tuples παρακάτω)\n",
    "d.items()"
   ]
  },
  {
   "cell_type": "markdown",
   "metadata": {},
   "source": [
    "<p>Ας ελπίσουμε ότι τώρα έχετε μια βασική κατανόηση του τρόπου κατασκευής λεξικών. Υπάρχουν πολλά περισσότερα που πρέπει να αναφερθούμε εδώ, αλλά θα επανεξετάσουμε τα λεξικά αργότερα. Μετά από αυτήν την ενότητα το μόνο που χρειάζεται να γνωρίζετε είναι πώς να δημιουργήσετε ένα λεξικό και πώς να ανακτήσετε τιμές από αυτό.</p>"
   ]
  },
  {
   "cell_type": "markdown",
   "metadata": {},
   "source": [
    "# Tuples/Πλειάδες"
   ]
  },
  {
   "cell_type": "markdown",
   "metadata": {},
   "source": [
    "<p>Στην Python οι πλειάδες είναι πολύ παρόμοιες με τις λίστες, ωστόσο, σε αντίθεση με τις λίστες, είναι αμετάβλητες που σημαίνει ότι δεν μπορούν να αλλάξουν. Θα χρησιμοποιούσαμε πλειάδες για να παρουσιάσουμε πράγματα που δεν πρέπει να αλλάξουν, όπως ημέρες της εβδομάδας ή ημερομηνίες σε ένα ημερολόγιο.</p>\n",
    "<br></br>\n",
    "<p>Σε αυτή την ενότητα, θα δούμε τα παρακάτω:</p>\n",
    "\n",
    " <li>Κατασκευή πλειάδων</li>\n",
    " <li>Βασικές μέθοδοι πλειάδας</li>\n",
    " <li>Αμετάβλητο</li>\n",
    " <li>Πότε να χρησιμοποιείτε πλειάδες</li>\n",
    "    <br></br>\n",
    "<p>Θα έχετε μια διαίσθηση για το πώς να χρησιμοποιείτε πλειάδες με βάση αυτά που έχετε μάθει για τις λίστες. Μπορούμε να τις αντιμετωπίσουμε πολύ παρόμοια με τη βασική διάκριση να είναι ότι οι πλειάδες είναι αμετάβλητες.</p>"
   ]
  },
  {
   "cell_type": "markdown",
   "metadata": {},
   "source": [
    "### Κατασκευή πλειάδων"
   ]
  },
  {
   "cell_type": "code",
   "execution_count": 1,
   "metadata": {},
   "outputs": [],
   "source": [
    "# Δημιουργία tuple\n",
    "t = (1,2,3)"
   ]
  },
  {
   "cell_type": "code",
   "execution_count": 2,
   "metadata": {},
   "outputs": [
    {
     "data": {
      "text/plain": [
       "3"
      ]
     },
     "execution_count": 2,
     "metadata": {},
     "output_type": "execute_result"
    }
   ],
   "source": [
    "# Δες το len όπως ακιρβώς στις λίστες\n",
    "len(t)"
   ]
  },
  {
   "cell_type": "code",
   "execution_count": 3,
   "metadata": {},
   "outputs": [
    {
     "data": {
      "text/plain": [
       "('one', 2)"
      ]
     },
     "execution_count": 3,
     "metadata": {},
     "output_type": "execute_result"
    }
   ],
   "source": [
    "# Μποούμε να έχουμε άλλους τύπους δεδομένων\n",
    "t = ('one',2)\n",
    "\n",
    "# Show\n",
    "t"
   ]
  },
  {
   "cell_type": "code",
   "execution_count": 4,
   "metadata": {},
   "outputs": [
    {
     "data": {
      "text/plain": [
       "'one'"
      ]
     },
     "execution_count": 4,
     "metadata": {},
     "output_type": "execute_result"
    }
   ],
   "source": [
    "# Βρίσκουμε το περιεχόμενο όπως ακριβώς στις λίστες\n",
    "t[0]"
   ]
  },
  {
   "cell_type": "code",
   "execution_count": 5,
   "metadata": {
    "scrolled": true
   },
   "outputs": [
    {
     "data": {
      "text/plain": [
       "2"
      ]
     },
     "execution_count": 5,
     "metadata": {},
     "output_type": "execute_result"
    }
   ],
   "source": [
    "t[-1]"
   ]
  },
  {
   "cell_type": "markdown",
   "metadata": {},
   "source": [
    "### Βασικές μέθοδοι πλειάδας\n",
    "\n",
    "<p>Οι πλειάδες έχουν ενσωματωμένες μεθόδους, αλλά όχι τόσες πολλές όπως οι λίστες</p>"
   ]
  },
  {
   "cell_type": "code",
   "execution_count": 6,
   "metadata": {},
   "outputs": [
    {
     "data": {
      "text/plain": [
       "0"
      ]
     },
     "execution_count": 6,
     "metadata": {},
     "output_type": "execute_result"
    }
   ],
   "source": [
    "# Χρησιμοποίησε το περιέχομενο για να ε΄ίσαγεις μια τιμή και να επιστρέψεις το αποτέλεσμα\n",
    "t.index('one')"
   ]
  },
  {
   "cell_type": "code",
   "execution_count": 7,
   "metadata": {},
   "outputs": [
    {
     "data": {
      "text/plain": [
       "1"
      ]
     },
     "execution_count": 7,
     "metadata": {},
     "output_type": "execute_result"
    }
   ],
   "source": [
    "# Χρησιμοποίσε την count για να μετρήσεις πόσες φορές εμφανίζεται μια τιμή\n",
    "t.count('one')"
   ]
  },
  {
   "cell_type": "markdown",
   "metadata": {},
   "source": [
    "### Αμετάβλητο\n",
    "\n"
   ]
  },
  {
   "cell_type": "code",
   "execution_count": 8,
   "metadata": {},
   "outputs": [
    {
     "ename": "TypeError",
     "evalue": "'tuple' object does not support item assignment",
     "output_type": "error",
     "traceback": [
      "\u001b[1;31m---------------------------------------------------------------------------\u001b[0m",
      "\u001b[1;31mTypeError\u001b[0m                                 Traceback (most recent call last)",
      "\u001b[1;32m~\\AppData\\Local\\Temp/ipykernel_17492/1765062513.py\u001b[0m in \u001b[0;36m<module>\u001b[1;34m\u001b[0m\n\u001b[1;32m----> 1\u001b[1;33m \u001b[0mt\u001b[0m\u001b[1;33m[\u001b[0m\u001b[1;36m0\u001b[0m\u001b[1;33m]\u001b[0m\u001b[1;33m=\u001b[0m \u001b[1;34m'change'\u001b[0m\u001b[1;33m\u001b[0m\u001b[1;33m\u001b[0m\u001b[0m\n\u001b[0m",
      "\u001b[1;31mTypeError\u001b[0m: 'tuple' object does not support item assignment"
     ]
    }
   ],
   "source": [
    "t[0]= 'change'"
   ]
  },
  {
   "cell_type": "markdown",
   "metadata": {},
   "source": [
    "<p>Λόγω αυτής της αμετάβλητης, οι πλειάδες δεν μπορούν να αναπτυχθούν. Μόλις γίνει μια πλειάδα δεν μπορούμε να προσθέσουμε σε αυτήν.</p>"
   ]
  },
  {
   "cell_type": "code",
   "execution_count": 9,
   "metadata": {
    "scrolled": true
   },
   "outputs": [
    {
     "ename": "AttributeError",
     "evalue": "'tuple' object has no attribute 'append'",
     "output_type": "error",
     "traceback": [
      "\u001b[1;31m---------------------------------------------------------------------------\u001b[0m",
      "\u001b[1;31mAttributeError\u001b[0m                            Traceback (most recent call last)",
      "\u001b[1;32m~\\AppData\\Local\\Temp/ipykernel_17492/3007115639.py\u001b[0m in \u001b[0;36m<module>\u001b[1;34m\u001b[0m\n\u001b[1;32m----> 1\u001b[1;33m \u001b[0mt\u001b[0m\u001b[1;33m.\u001b[0m\u001b[0mappend\u001b[0m\u001b[1;33m(\u001b[0m\u001b[1;34m'nope'\u001b[0m\u001b[1;33m)\u001b[0m\u001b[1;33m\u001b[0m\u001b[1;33m\u001b[0m\u001b[0m\n\u001b[0m",
      "\u001b[1;31mAttributeError\u001b[0m: 'tuple' object has no attribute 'append'"
     ]
    }
   ],
   "source": [
    "t.append('nope')"
   ]
  },
  {
   "cell_type": "markdown",
   "metadata": {},
   "source": [
    "### Πότε να χρησιμοποιείτε πλειάδες"
   ]
  },
  {
   "cell_type": "markdown",
   "metadata": {},
   "source": [
    "<p>Μπορεί να αναρωτιέστε, \"Γιατί να μπείτε στον κόπο να χρησιμοποιήσετε πλειάδες όταν έχουν λιγότερες διαθέσιμες μεθόδους;\"</p>\n",
    "<p>Για να είμαστε ειλικρινείς, οι πλειάδες δεν χρησιμοποιούνται τόσο συχνά όσο οι λίστες στον προγραμματισμό, αλλά χρησιμοποιούνται όταν η αμετάβλητη τιμή είναι απαραίτητη. Εάν στο πρόγραμμά σας περνάτε γύρω από ένα αντικείμενο και πρέπει να βεβαιωθείτε ότι δεν θα αλλάξει, τότε μια πλειάδα γίνεται η λύση σας. Παρέχει μια βολική πηγή ακεραιότητας δεδομένων.</p>\n",
    "\n",
    "<p>Θα πρέπει τώρα να μπορείτε να δημιουργείτε και να χρησιμοποιείτε πλειάδες στον προγραμματισμό σας καθώς και να κατανοείτε την αμετάβλητη τους.</p>"
   ]
  },
  {
   "cell_type": "markdown",
   "metadata": {},
   "source": [
    "# Sets\n",
    "\n",
    "<p>Τα σύνολα είναι μια μη ταξινομημένη συλλογή *μοναδικών* στοιχείων. Μπορούμε να τα κατασκευάσουμε χρησιμοποιώντας τη συνάρτηση set(). Ας προχωρήσουμε και κάνουμε ένα σετ για να δούμε πώς λειτουργεί.</p>"
   ]
  },
  {
   "cell_type": "code",
   "execution_count": 10,
   "metadata": {},
   "outputs": [],
   "source": [
    "x = set()"
   ]
  },
  {
   "cell_type": "code",
   "execution_count": 11,
   "metadata": {},
   "outputs": [],
   "source": [
    "# Προσθέτουμε στα σύνολα με την μέθοδο add() \n",
    "x.add(1)"
   ]
  },
  {
   "cell_type": "code",
   "execution_count": 12,
   "metadata": {},
   "outputs": [
    {
     "data": {
      "text/plain": [
       "{1}"
      ]
     },
     "execution_count": 12,
     "metadata": {},
     "output_type": "execute_result"
    }
   ],
   "source": [
    "x"
   ]
  },
  {
   "cell_type": "markdown",
   "metadata": {},
   "source": [
    "<p>Παρατηρείστε τις αγκύλες. Αυτό δεν υποδηλώνει λεξικό! Αν και μπορείτε να σχεδιάσετε αναλογίες ως σύνολο που είναι ένα λεξικό με μόνο κλειδιά.</p>\n",
    "\n",
    "<p>Γνωρίζουμε ότι ένα σύνολο έχει μόνο μοναδικές καταχωρήσεις. Τι συμβαίνει λοιπόν όταν προσπαθούμε να προσθέσουμε κάτι που είναι ήδη σε ένα σύνολο;</p>"
   ]
  },
  {
   "cell_type": "code",
   "execution_count": 13,
   "metadata": {},
   "outputs": [],
   "source": [
    "# Πρόσθεσε διαφορετικό στοιχείο\n",
    "x.add(2)"
   ]
  },
  {
   "cell_type": "code",
   "execution_count": 14,
   "metadata": {},
   "outputs": [
    {
     "data": {
      "text/plain": [
       "{1, 2}"
      ]
     },
     "execution_count": 14,
     "metadata": {},
     "output_type": "execute_result"
    }
   ],
   "source": [
    "x"
   ]
  },
  {
   "cell_type": "code",
   "execution_count": 15,
   "metadata": {},
   "outputs": [],
   "source": [
    "# Προσπάθησε να προσθέσεις το ίδιο αντικείμενο\n",
    "x.add(1)"
   ]
  },
  {
   "cell_type": "code",
   "execution_count": 16,
   "metadata": {},
   "outputs": [
    {
     "data": {
      "text/plain": [
       "{1, 2}"
      ]
     },
     "execution_count": 16,
     "metadata": {},
     "output_type": "execute_result"
    }
   ],
   "source": [
    "x"
   ]
  },
  {
   "cell_type": "markdown",
   "metadata": {},
   "source": [
    "<p>Παρατηρήστε πώς δεν θα τοποθετήσει άλλο 1 εκεί. Και αυτό γιατί ένα σύνολο ασχολείται μόνο με μοναδικά στοιχεία! Μπορούμε να ρίξουμε μια λίστα με πολλαπλά επαναλαμβανόμενα στοιχεία σε ένα σύνολο για να λάβουμε τα μοναδικά στοιχεία. Για παράδειγμα:</p>"
   ]
  },
  {
   "cell_type": "code",
   "execution_count": 17,
   "metadata": {},
   "outputs": [],
   "source": [
    "# Δημιούργησε μια λίστα με επαναλήψεις\n",
    "list1 = [1,1,2,2,3,4,5,6,1,1]"
   ]
  },
  {
   "cell_type": "code",
   "execution_count": 18,
   "metadata": {},
   "outputs": [
    {
     "data": {
      "text/plain": [
       "{1, 2, 3, 4, 5, 6}"
      ]
     },
     "execution_count": 18,
     "metadata": {},
     "output_type": "execute_result"
    }
   ],
   "source": [
    "# Σημείωσε τις μοναδικές τιμές που εμφανίζονται\n",
    "set(list1)"
   ]
  },
  {
   "cell_type": "markdown",
   "metadata": {},
   "source": [
    "# Booleans"
   ]
  },
  {
   "cell_type": "markdown",
   "metadata": {},
   "source": [
    "<p>Η Python έρχεται με Booleans (με προκαθορισμένες οθόνες True και False που βασικά είναι μόνο οι ακέραιοι αριθμοί 1 και 0). Έχει επίσης ένα αντικείμενο κράτησης θέσης που ονομάζεται none.</p> \n",
    "<p>Ας δούμε μερικά γρήγορα παραδείγματα Booleans</p> "
   ]
  },
  {
   "cell_type": "code",
   "execution_count": 19,
   "metadata": {},
   "outputs": [],
   "source": [
    "# Θέσε αντικείμενο ωσ boolean\n",
    "a = True"
   ]
  },
  {
   "cell_type": "code",
   "execution_count": 20,
   "metadata": {},
   "outputs": [
    {
     "data": {
      "text/plain": [
       "True"
      ]
     },
     "execution_count": 20,
     "metadata": {},
     "output_type": "execute_result"
    }
   ],
   "source": [
    "a"
   ]
  },
  {
   "cell_type": "markdown",
   "metadata": {},
   "source": [
    "<p>Μπορούμε επίσης να χρησιμοποιήσουμε τελεστές σύγκρισης για να δημιουργήσουμε booleans. Θα εξετάσουμε όλους τους τελεστές σύγκρισης αργότερα στο μάθημα.</p>"
   ]
  },
  {
   "cell_type": "code",
   "execution_count": 21,
   "metadata": {},
   "outputs": [
    {
     "data": {
      "text/plain": [
       "False"
      ]
     },
     "execution_count": 21,
     "metadata": {},
     "output_type": "execute_result"
    }
   ],
   "source": [
    "# Το αποτέλεσμα είναι boolean\n",
    "1 > 2"
   ]
  },
  {
   "cell_type": "markdown",
   "metadata": {},
   "source": [
    "<p>Μπορούμε να χρησιμοποιήσουμε το None ως σύμβολο κράτησης θέσης για ένα αντικείμενο που δεν θέλουμε να εκχωρήσουμε ξανά ακόμα:</p>"
   ]
  },
  {
   "cell_type": "code",
   "execution_count": 22,
   "metadata": {},
   "outputs": [],
   "source": [
    "# Κράταση με none \n",
    "b = None"
   ]
  },
  {
   "cell_type": "code",
   "execution_count": 23,
   "metadata": {},
   "outputs": [
    {
     "name": "stdout",
     "output_type": "stream",
     "text": [
      "None\n"
     ]
    }
   ],
   "source": [
    "# Εμφάνισε\n",
    "print(b)"
   ]
  },
  {
   "cell_type": "markdown",
   "metadata": {},
   "source": [
    "<p>Αυτό είναι! Θα πρέπει τώρα να έχετε μια βασική κατανόηση των αντικειμένων Python και των τύπων δομών δεδομένων.</p>"
   ]
  }
 ],
 "metadata": {
  "kernelspec": {
   "display_name": "Python 3",
   "language": "python",
   "name": "python3"
  },
  "language_info": {
   "codemirror_mode": {
    "name": "ipython",
    "version": 3
   },
   "file_extension": ".py",
   "mimetype": "text/x-python",
   "name": "python",
   "nbconvert_exporter": "python",
   "pygments_lexer": "ipython3",
   "version": "3.8.5"
  }
 },
 "nbformat": 4,
 "nbformat_minor": 5
}
